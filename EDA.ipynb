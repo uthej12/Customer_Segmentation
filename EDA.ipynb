{
 "cells": [
  {
   "cell_type": "code",
   "execution_count": 1,
   "id": "54e6dae3",
   "metadata": {},
   "outputs": [],
   "source": [
    "import pandas as pd\n",
    "import matplotlib.pyplot as plt\n",
    "import numpy as np\n",
    "from scipy import stats\n",
    "import numpy as np"
   ]
  },
  {
   "cell_type": "code",
   "execution_count": 2,
   "id": "430d914a",
   "metadata": {},
   "outputs": [],
   "source": [
    "df = pd.read_csv('dataset.csv')"
   ]
  },
  {
   "cell_type": "code",
   "execution_count": 3,
   "id": "64eb1dc4",
   "metadata": {},
   "outputs": [
    {
     "data": {
      "text/html": [
       "<div>\n",
       "<style scoped>\n",
       "    .dataframe tbody tr th:only-of-type {\n",
       "        vertical-align: middle;\n",
       "    }\n",
       "\n",
       "    .dataframe tbody tr th {\n",
       "        vertical-align: top;\n",
       "    }\n",
       "\n",
       "    .dataframe thead th {\n",
       "        text-align: right;\n",
       "    }\n",
       "</style>\n",
       "<table border=\"1\" class=\"dataframe\">\n",
       "  <thead>\n",
       "    <tr style=\"text-align: right;\">\n",
       "      <th></th>\n",
       "      <th>Customer Code</th>\n",
       "      <th>Employee Index</th>\n",
       "      <th>Country</th>\n",
       "      <th>Gender</th>\n",
       "      <th>Age</th>\n",
       "      <th>New Customer</th>\n",
       "      <th>Customer Seniority(months)</th>\n",
       "      <th>Customer type</th>\n",
       "      <th>Customer relation type</th>\n",
       "      <th>Residence index</th>\n",
       "      <th>Foreigner index</th>\n",
       "      <th>Channel joined</th>\n",
       "      <th>Province</th>\n",
       "      <th>Gross Income</th>\n",
       "    </tr>\n",
       "  </thead>\n",
       "  <tbody>\n",
       "    <tr>\n",
       "      <th>0</th>\n",
       "      <td>1375586</td>\n",
       "      <td>N</td>\n",
       "      <td>ES</td>\n",
       "      <td>F</td>\n",
       "      <td>35</td>\n",
       "      <td>0</td>\n",
       "      <td>6</td>\n",
       "      <td>1</td>\n",
       "      <td>A</td>\n",
       "      <td>S</td>\n",
       "      <td>N</td>\n",
       "      <td>KHL</td>\n",
       "      <td>MALAGA</td>\n",
       "      <td>87218.10000</td>\n",
       "    </tr>\n",
       "    <tr>\n",
       "      <th>1</th>\n",
       "      <td>1050611</td>\n",
       "      <td>N</td>\n",
       "      <td>ES</td>\n",
       "      <td>M</td>\n",
       "      <td>23</td>\n",
       "      <td>0</td>\n",
       "      <td>35</td>\n",
       "      <td>1</td>\n",
       "      <td>I</td>\n",
       "      <td>S</td>\n",
       "      <td>S</td>\n",
       "      <td>KHE</td>\n",
       "      <td>CIUDAD REAL</td>\n",
       "      <td>35548.74000</td>\n",
       "    </tr>\n",
       "    <tr>\n",
       "      <th>2</th>\n",
       "      <td>1050612</td>\n",
       "      <td>N</td>\n",
       "      <td>ES</td>\n",
       "      <td>M</td>\n",
       "      <td>23</td>\n",
       "      <td>0</td>\n",
       "      <td>35</td>\n",
       "      <td>1</td>\n",
       "      <td>I</td>\n",
       "      <td>S</td>\n",
       "      <td>N</td>\n",
       "      <td>KHE</td>\n",
       "      <td>CIUDAD REAL</td>\n",
       "      <td>122179.11000</td>\n",
       "    </tr>\n",
       "    <tr>\n",
       "      <th>3</th>\n",
       "      <td>1050613</td>\n",
       "      <td>N</td>\n",
       "      <td>ES</td>\n",
       "      <td>F</td>\n",
       "      <td>22</td>\n",
       "      <td>0</td>\n",
       "      <td>35</td>\n",
       "      <td>1</td>\n",
       "      <td>I</td>\n",
       "      <td>S</td>\n",
       "      <td>N</td>\n",
       "      <td>KHD</td>\n",
       "      <td>ZARAGOZA</td>\n",
       "      <td>119775.54000</td>\n",
       "    </tr>\n",
       "    <tr>\n",
       "      <th>4</th>\n",
       "      <td>1050614</td>\n",
       "      <td>N</td>\n",
       "      <td>ES</td>\n",
       "      <td>M</td>\n",
       "      <td>23</td>\n",
       "      <td>0</td>\n",
       "      <td>35</td>\n",
       "      <td>1</td>\n",
       "      <td>A</td>\n",
       "      <td>S</td>\n",
       "      <td>N</td>\n",
       "      <td>KHE</td>\n",
       "      <td>ZARAGOZA</td>\n",
       "      <td>139646.15094</td>\n",
       "    </tr>\n",
       "  </tbody>\n",
       "</table>\n",
       "</div>"
      ],
      "text/plain": [
       "   Customer Code Employee Index Country Gender  Age  New Customer  \\\n",
       "0        1375586              N      ES      F   35             0   \n",
       "1        1050611              N      ES      M   23             0   \n",
       "2        1050612              N      ES      M   23             0   \n",
       "3        1050613              N      ES      F   22             0   \n",
       "4        1050614              N      ES      M   23             0   \n",
       "\n",
       "   Customer Seniority(months)  Customer type Customer relation type  \\\n",
       "0                           6              1                      A   \n",
       "1                          35              1                      I   \n",
       "2                          35              1                      I   \n",
       "3                          35              1                      I   \n",
       "4                          35              1                      A   \n",
       "\n",
       "  Residence index Foreigner index Channel joined     Province  Gross Income  \n",
       "0               S               N            KHL       MALAGA   87218.10000  \n",
       "1               S               S            KHE  CIUDAD REAL   35548.74000  \n",
       "2               S               N            KHE  CIUDAD REAL  122179.11000  \n",
       "3               S               N            KHD     ZARAGOZA  119775.54000  \n",
       "4               S               N            KHE     ZARAGOZA  139646.15094  "
      ]
     },
     "execution_count": 3,
     "metadata": {},
     "output_type": "execute_result"
    }
   ],
   "source": [
    "df.head()"
   ]
  },
  {
   "cell_type": "code",
   "execution_count": 4,
   "id": "cc09aaa5",
   "metadata": {},
   "outputs": [
    {
     "name": "stdout",
     "output_type": "stream",
     "text": [
      "N : 981145\n",
      "A : 285\n",
      "F : 282\n",
      "B : 385\n",
      "S : 2\n"
     ]
    }
   ],
   "source": [
    "emp_index = df['Employee Index'].unique()\n",
    "for index in emp_index:\n",
    "    print(index,':',len(df[df['Employee Index'] == index]))"
   ]
  },
  {
   "cell_type": "code",
   "execution_count": 5,
   "id": "bacb07f2",
   "metadata": {},
   "outputs": [
    {
     "name": "stdout",
     "output_type": "stream",
     "text": [
      "ES : 982089\n",
      "IT : 4\n",
      "DE : 2\n",
      "BO : 2\n",
      "PY : 2\n"
     ]
    }
   ],
   "source": [
    "country = df['Country'].unique()\n",
    "for c in country:\n",
    "    print(c,':',len(df[df['Country'] == c]))"
   ]
  },
  {
   "cell_type": "markdown",
   "id": "e26858aa",
   "metadata": {},
   "source": [
    "Employee index mostly consists of Non employees and Maximum number of customers are from Spain, therefore these column will not be very useful in clustering, as they will introduce bias, and can thus be removed."
   ]
  },
  {
   "cell_type": "code",
   "execution_count": 6,
   "id": "4e8244bb",
   "metadata": {},
   "outputs": [],
   "source": [
    "df = df.drop(columns=['Employee Index', 'Country'])"
   ]
  },
  {
   "cell_type": "code",
   "execution_count": 7,
   "id": "9e06f155",
   "metadata": {},
   "outputs": [
    {
     "data": {
      "image/png": "[encoded data removed]",
      "text/plain": [
       "<Figure size 720x576 with 1 Axes>"
      ]
     },
     "metadata": {
      "needs_background": "light"
     },
     "output_type": "display_data"
    }
   ],
   "source": [
    "fig,ax = plt.subplots()\n",
    "\n",
    "x = df['Gender'].unique()\n",
    "\n",
    "rects1 = ax.bar('Female',len(df[df['Gender'] == 'F']))\n",
    "rects2 = ax.bar('Male',len(df[df['Gender'] == 'M']))\n",
    "\n",
    "fig.set_figheight(8)\n",
    "fig.set_figwidth(10)\n",
    "\n",
    "ax.set_ylabel('No of Customers')\n",
    "ax.set_title('Customers by gender')\n",
    "ax.set_xlabel('Gender') \n",
    "ax.grid(color = 'grey', linestyle = '--', linewidth = 0.5)\n",
    "#ax.set_yticklabels([])\n",
    "\n",
    "for index,data in enumerate([len(df[df['Gender'] == 'F']), len(df[df['Gender'] == 'M'])]):\n",
    "    plt.text(x=index-0.1 , y =data+2000 , s=data , fontdict=dict(fontsize=20))\n",
    "\n",
    "ax.spines['right'].set_visible(False)\n",
    "ax.spines['top'].set_visible(False)\n",
    "#ax.spines['left'].set_visible(False)\n",
    "\n",
    "plt.show()"
   ]
  },
  {
   "cell_type": "markdown",
   "id": "6c146a7a",
   "metadata": {},
   "source": [
    "Number of Male and Female Customers."
   ]
  },
  {
   "cell_type": "code",
   "execution_count": 8,
   "id": "95282066",
   "metadata": {},
   "outputs": [
    {
     "data": {
      "image/png": "[encoded data removed]",
      "text/plain": [
       "<Figure size 720x576 with 1 Axes>"
      ]
     },
     "metadata": {
      "needs_background": "light"
     },
     "output_type": "display_data"
    }
   ],
   "source": [
    "fig,ax = plt.subplots()\n",
    "\n",
    "\n",
    "rects1 = ax.bar('Under 18',len(df[df['Age'] < 18]), color = '#FF5733')\n",
    "rects2 = ax.bar('18 - 24',len(df[(df['Age'] >= 18) & (df['Age'] <24)]), color = '#FF5733')\n",
    "rects3 = ax.bar('24 - 34',len(df[(df['Age'] >= 24) & (df['Age'] <34)]), color = '#FF5733')\n",
    "rects4 = ax.bar('34 - 45',len(df[(df['Age'] >= 34) & (df['Age'] <45)]), color = '#FF5733')\n",
    "rects5 = ax.bar('45 - 60',len(df[(df['Age'] >= 45) & (df['Age'] <60)]), color = '#FF5733')\n",
    "rects6 = ax.bar('60+',len(df[df['Age'] >= 60]), color='#FF5733')\n",
    "\n",
    "fig.set_figheight(8)\n",
    "fig.set_figwidth(10)\n",
    "\n",
    "ax.set_ylabel('No of Customers')\n",
    "ax.set_title('Customers by Age Groups')\n",
    "ax.set_xlabel('Age Group') \n",
    "ax.grid(color = 'grey', linestyle = '--', linewidth = 0.5)\n",
    "\n",
    "plt.show()"
   ]
  },
  {
   "cell_type": "markdown",
   "id": "b974abcb",
   "metadata": {},
   "source": [
    "The maximum amount of customers are in the age group of 45-60."
   ]
  },
  {
   "cell_type": "code",
   "execution_count": 9,
   "id": "6f4163aa",
   "metadata": {},
   "outputs": [
    {
     "data": {
      "image/png": "[encoded data removed]",
      "text/plain": [
       "<Figure size 720x576 with 1 Axes>"
      ]
     },
     "metadata": {
      "needs_background": "light"
     },
     "output_type": "display_data"
    }
   ],
   "source": [
    "fig,ax = plt.subplots()\n",
    "\n",
    "\n",
    "rects1 = ax.bar('Less than 1 year',len(df[(df['Customer Seniority(months)'] < 12)]), color='#3433FF')\n",
    "rects2 = ax.bar('1-4 years',len(df[(df['Customer Seniority(months)'] >= 12) & (df['Customer Seniority(months)'] < 48)]), color='#3433FF')\n",
    "rects3 = ax.bar('4-8 years',len(df[(df['Customer Seniority(months)'] >= 48) & (df['Customer Seniority(months)'] < 96)]), color='#3433FF')\n",
    "rects4 = ax.bar('8-12 years',len(df[(df['Customer Seniority(months)'] >= 96) & (df['Customer Seniority(months)'] < 144)]), color='#3433FF')\n",
    "rects5 = ax.bar('12-16 years',len(df[(df['Customer Seniority(months)'] >= 144) & (df['Customer Seniority(months)'] < 180)]), color='#3433FF')\n",
    "rects6 = ax.bar('16+ years',len(df[(df['Customer Seniority(months)'] >= 180)]), color='#3433FF')\n",
    "\n",
    "fig.set_figheight(8)\n",
    "fig.set_figwidth(10)\n",
    "\n",
    "ax.set_ylabel('No of Customers')\n",
    "ax.set_title('Customers by Seniority')\n",
    "ax.set_xlabel('Age Group') \n",
    "ax.grid(color = 'grey', linestyle = '--', linewidth = 0.5)\n",
    "\n",
    "plt.show()"
   ]
  },
  {
   "cell_type": "markdown",
   "id": "05097dfe",
   "metadata": {},
   "source": [
    "Customer Seniority Distribution, as we can see most of the customers joined 1-4 years ago."
   ]
  },
  {
   "cell_type": "code",
   "execution_count": 10,
   "id": "134888ff",
   "metadata": {},
   "outputs": [
    {
     "name": "stdout",
     "output_type": "stream",
     "text": [
      "1 : 982095\n",
      "2 : 2\n",
      "3 : 2\n"
     ]
    }
   ],
   "source": [
    "xa = df['Customer type'].unique()\n",
    "for x in xa:\n",
    "    print(x, ':', len(df[df['Customer type'] == x]))"
   ]
  },
  {
   "cell_type": "markdown",
   "id": "70a4ad39",
   "metadata": {},
   "source": [
    "Most of the customers are primary customers threfore this column can be removed as it wont contribute much ffor clustering."
   ]
  },
  {
   "cell_type": "code",
   "execution_count": 11,
   "id": "0ee6bfbf",
   "metadata": {},
   "outputs": [],
   "source": [
    "df = df.drop(columns=['Customer type'])"
   ]
  },
  {
   "cell_type": "code",
   "execution_count": 12,
   "id": "89d31b0d",
   "metadata": {},
   "outputs": [
    {
     "data": {
      "text/html": [
       "<div>\n",
       "<style scoped>\n",
       "    .dataframe tbody tr th:only-of-type {\n",
       "        vertical-align: middle;\n",
       "    }\n",
       "\n",
       "    .dataframe tbody tr th {\n",
       "        vertical-align: top;\n",
       "    }\n",
       "\n",
       "    .dataframe thead th {\n",
       "        text-align: right;\n",
       "    }\n",
       "</style>\n",
       "<table border=\"1\" class=\"dataframe\">\n",
       "  <thead>\n",
       "    <tr style=\"text-align: right;\">\n",
       "      <th></th>\n",
       "      <th>Customer Code</th>\n",
       "      <th>Gender</th>\n",
       "      <th>Age</th>\n",
       "      <th>New Customer</th>\n",
       "      <th>Customer Seniority(months)</th>\n",
       "      <th>Customer relation type</th>\n",
       "      <th>Residence index</th>\n",
       "      <th>Foreigner index</th>\n",
       "      <th>Channel joined</th>\n",
       "      <th>Province</th>\n",
       "      <th>Gross Income</th>\n",
       "    </tr>\n",
       "  </thead>\n",
       "  <tbody>\n",
       "    <tr>\n",
       "      <th>0</th>\n",
       "      <td>1375586</td>\n",
       "      <td>F</td>\n",
       "      <td>35</td>\n",
       "      <td>0</td>\n",
       "      <td>6</td>\n",
       "      <td>A</td>\n",
       "      <td>S</td>\n",
       "      <td>N</td>\n",
       "      <td>KHL</td>\n",
       "      <td>MALAGA</td>\n",
       "      <td>87218.10000</td>\n",
       "    </tr>\n",
       "    <tr>\n",
       "      <th>1</th>\n",
       "      <td>1050611</td>\n",
       "      <td>M</td>\n",
       "      <td>23</td>\n",
       "      <td>0</td>\n",
       "      <td>35</td>\n",
       "      <td>I</td>\n",
       "      <td>S</td>\n",
       "      <td>S</td>\n",
       "      <td>KHE</td>\n",
       "      <td>CIUDAD REAL</td>\n",
       "      <td>35548.74000</td>\n",
       "    </tr>\n",
       "    <tr>\n",
       "      <th>2</th>\n",
       "      <td>1050612</td>\n",
       "      <td>M</td>\n",
       "      <td>23</td>\n",
       "      <td>0</td>\n",
       "      <td>35</td>\n",
       "      <td>I</td>\n",
       "      <td>S</td>\n",
       "      <td>N</td>\n",
       "      <td>KHE</td>\n",
       "      <td>CIUDAD REAL</td>\n",
       "      <td>122179.11000</td>\n",
       "    </tr>\n",
       "    <tr>\n",
       "      <th>3</th>\n",
       "      <td>1050613</td>\n",
       "      <td>F</td>\n",
       "      <td>22</td>\n",
       "      <td>0</td>\n",
       "      <td>35</td>\n",
       "      <td>I</td>\n",
       "      <td>S</td>\n",
       "      <td>N</td>\n",
       "      <td>KHD</td>\n",
       "      <td>ZARAGOZA</td>\n",
       "      <td>119775.54000</td>\n",
       "    </tr>\n",
       "    <tr>\n",
       "      <th>4</th>\n",
       "      <td>1050614</td>\n",
       "      <td>M</td>\n",
       "      <td>23</td>\n",
       "      <td>0</td>\n",
       "      <td>35</td>\n",
       "      <td>A</td>\n",
       "      <td>S</td>\n",
       "      <td>N</td>\n",
       "      <td>KHE</td>\n",
       "      <td>ZARAGOZA</td>\n",
       "      <td>139646.15094</td>\n",
       "    </tr>\n",
       "  </tbody>\n",
       "</table>\n",
       "</div>"
      ],
      "text/plain": [
       "   Customer Code Gender  Age  New Customer  Customer Seniority(months)  \\\n",
       "0        1375586      F   35             0                           6   \n",
       "1        1050611      M   23             0                          35   \n",
       "2        1050612      M   23             0                          35   \n",
       "3        1050613      F   22             0                          35   \n",
       "4        1050614      M   23             0                          35   \n",
       "\n",
       "  Customer relation type Residence index Foreigner index Channel joined  \\\n",
       "0                      A               S               N            KHL   \n",
       "1                      I               S               S            KHE   \n",
       "2                      I               S               N            KHE   \n",
       "3                      I               S               N            KHD   \n",
       "4                      A               S               N            KHE   \n",
       "\n",
       "      Province  Gross Income  \n",
       "0       MALAGA   87218.10000  \n",
       "1  CIUDAD REAL   35548.74000  \n",
       "2  CIUDAD REAL  122179.11000  \n",
       "3     ZARAGOZA  119775.54000  \n",
       "4     ZARAGOZA  139646.15094  "
      ]
     },
     "execution_count": 12,
     "metadata": {},
     "output_type": "execute_result"
    }
   ],
   "source": [
    "df.head()"
   ]
  },
  {
   "cell_type": "code",
   "execution_count": 13,
   "id": "d4112c99",
   "metadata": {},
   "outputs": [
    {
     "data": {
      "image/png": "[encoded data removed]",
      "text/plain": [
       "<Figure size 720x576 with 1 Axes>"
      ]
     },
     "metadata": {
      "needs_background": "light"
     },
     "output_type": "display_data"
    }
   ],
   "source": [
    "fig,ax = plt.subplots()\n",
    "\n",
    "\n",
    "rects1 = ax.bar('Active',len(df[(df['Customer relation type'] == 'A')]), color='#1FA048')\n",
    "rects2 = ax.bar('Inactive',len(df[(df['Customer relation type'] == 'I')]), color='#1FA048')\n",
    "\n",
    "fig.set_figheight(8)\n",
    "fig.set_figwidth(10)\n",
    "\n",
    "ax.set_ylabel('No of Customers')\n",
    "ax.set_title('Customers by their relation to the bank')\n",
    "ax.set_xlabel('Type') \n",
    "ax.grid(color = 'grey', linestyle = '--', linewidth = 0.5)\n",
    "\n",
    "plt.show()"
   ]
  },
  {
   "cell_type": "markdown",
   "id": "6851a435",
   "metadata": {},
   "source": [
    "There are more active customers than inactive customers"
   ]
  },
  {
   "cell_type": "code",
   "execution_count": 14,
   "id": "182620f8",
   "metadata": {},
   "outputs": [
    {
     "data": {
      "text/html": [
       "<div>\n",
       "<style scoped>\n",
       "    .dataframe tbody tr th:only-of-type {\n",
       "        vertical-align: middle;\n",
       "    }\n",
       "\n",
       "    .dataframe tbody tr th {\n",
       "        vertical-align: top;\n",
       "    }\n",
       "\n",
       "    .dataframe thead th {\n",
       "        text-align: right;\n",
       "    }\n",
       "</style>\n",
       "<table border=\"1\" class=\"dataframe\">\n",
       "  <thead>\n",
       "    <tr style=\"text-align: right;\">\n",
       "      <th></th>\n",
       "      <th>Customer Code</th>\n",
       "      <th>Gender</th>\n",
       "      <th>Age</th>\n",
       "      <th>New Customer</th>\n",
       "      <th>Customer Seniority(months)</th>\n",
       "      <th>Customer relation type</th>\n",
       "      <th>Residence index</th>\n",
       "      <th>Foreigner index</th>\n",
       "      <th>Channel joined</th>\n",
       "      <th>Province</th>\n",
       "      <th>Gross Income</th>\n",
       "    </tr>\n",
       "  </thead>\n",
       "  <tbody>\n",
       "    <tr>\n",
       "      <th>0</th>\n",
       "      <td>1375586</td>\n",
       "      <td>F</td>\n",
       "      <td>35</td>\n",
       "      <td>0</td>\n",
       "      <td>6</td>\n",
       "      <td>A</td>\n",
       "      <td>S</td>\n",
       "      <td>N</td>\n",
       "      <td>KHL</td>\n",
       "      <td>MALAGA</td>\n",
       "      <td>87218.10000</td>\n",
       "    </tr>\n",
       "    <tr>\n",
       "      <th>1</th>\n",
       "      <td>1050611</td>\n",
       "      <td>M</td>\n",
       "      <td>23</td>\n",
       "      <td>0</td>\n",
       "      <td>35</td>\n",
       "      <td>I</td>\n",
       "      <td>S</td>\n",
       "      <td>S</td>\n",
       "      <td>KHE</td>\n",
       "      <td>CIUDAD REAL</td>\n",
       "      <td>35548.74000</td>\n",
       "    </tr>\n",
       "    <tr>\n",
       "      <th>2</th>\n",
       "      <td>1050612</td>\n",
       "      <td>M</td>\n",
       "      <td>23</td>\n",
       "      <td>0</td>\n",
       "      <td>35</td>\n",
       "      <td>I</td>\n",
       "      <td>S</td>\n",
       "      <td>N</td>\n",
       "      <td>KHE</td>\n",
       "      <td>CIUDAD REAL</td>\n",
       "      <td>122179.11000</td>\n",
       "    </tr>\n",
       "    <tr>\n",
       "      <th>3</th>\n",
       "      <td>1050613</td>\n",
       "      <td>F</td>\n",
       "      <td>22</td>\n",
       "      <td>0</td>\n",
       "      <td>35</td>\n",
       "      <td>I</td>\n",
       "      <td>S</td>\n",
       "      <td>N</td>\n",
       "      <td>KHD</td>\n",
       "      <td>ZARAGOZA</td>\n",
       "      <td>119775.54000</td>\n",
       "    </tr>\n",
       "    <tr>\n",
       "      <th>4</th>\n",
       "      <td>1050614</td>\n",
       "      <td>M</td>\n",
       "      <td>23</td>\n",
       "      <td>0</td>\n",
       "      <td>35</td>\n",
       "      <td>A</td>\n",
       "      <td>S</td>\n",
       "      <td>N</td>\n",
       "      <td>KHE</td>\n",
       "      <td>ZARAGOZA</td>\n",
       "      <td>139646.15094</td>\n",
       "    </tr>\n",
       "  </tbody>\n",
       "</table>\n",
       "</div>"
      ],
      "text/plain": [
       "   Customer Code Gender  Age  New Customer  Customer Seniority(months)  \\\n",
       "0        1375586      F   35             0                           6   \n",
       "1        1050611      M   23             0                          35   \n",
       "2        1050612      M   23             0                          35   \n",
       "3        1050613      F   22             0                          35   \n",
       "4        1050614      M   23             0                          35   \n",
       "\n",
       "  Customer relation type Residence index Foreigner index Channel joined  \\\n",
       "0                      A               S               N            KHL   \n",
       "1                      I               S               S            KHE   \n",
       "2                      I               S               N            KHE   \n",
       "3                      I               S               N            KHD   \n",
       "4                      A               S               N            KHE   \n",
       "\n",
       "      Province  Gross Income  \n",
       "0       MALAGA   87218.10000  \n",
       "1  CIUDAD REAL   35548.74000  \n",
       "2  CIUDAD REAL  122179.11000  \n",
       "3     ZARAGOZA  119775.54000  \n",
       "4     ZARAGOZA  139646.15094  "
      ]
     },
     "execution_count": 14,
     "metadata": {},
     "output_type": "execute_result"
    }
   ],
   "source": [
    "df.head()"
   ]
  },
  {
   "cell_type": "code",
   "execution_count": 15,
   "id": "6f98ed71",
   "metadata": {},
   "outputs": [
    {
     "name": "stdout",
     "output_type": "stream",
     "text": [
      "S : 982089\n",
      "N : 10\n"
     ]
    }
   ],
   "source": [
    "xa = df['Residence index'].unique()\n",
    "for x in xa:\n",
    "    print(x, ':', len(df[df['Residence index'] == x]))"
   ]
  },
  {
   "cell_type": "markdown",
   "id": "c595c36c",
   "metadata": {},
   "source": [
    "Majority of the customers are living in Spain so this column can be removed."
   ]
  },
  {
   "cell_type": "code",
   "execution_count": 16,
   "id": "465b60f3",
   "metadata": {},
   "outputs": [],
   "source": [
    "df = df.drop(columns=['Residence index'])"
   ]
  },
  {
   "cell_type": "code",
   "execution_count": 17,
   "id": "6c176cf1",
   "metadata": {},
   "outputs": [
    {
     "name": "stdout",
     "output_type": "stream",
     "text": [
      "N : 944819\n",
      "S : 37280\n"
     ]
    }
   ],
   "source": [
    "xa = df['Foreigner index'].unique()\n",
    "for x in xa:\n",
    "    print(x, ':', len(df[df['Foreigner index'] == x]))"
   ]
  },
  {
   "cell_type": "code",
   "execution_count": 18,
   "id": "51b2d052",
   "metadata": {},
   "outputs": [
    {
     "data": {
      "image/png": "[encoded data removed]",
      "text/plain": [
       "<Figure size 720x576 with 1 Axes>"
      ]
     },
     "metadata": {
      "needs_background": "light"
     },
     "output_type": "display_data"
    }
   ],
   "source": [
    "fig,ax = plt.subplots()\n",
    "\n",
    "\n",
    "rects1 = ax.bar('National',len(df[(df['Foreigner index'] == 'N')]), color='#91C830')\n",
    "rects2 = ax.bar('Foreigner',len(df[(df['Foreigner index'] == 'S')]), color='#91C830')\n",
    "\n",
    "fig.set_figheight(8)\n",
    "fig.set_figwidth(10)\n",
    "\n",
    "ax.set_ylabel('No of Customers')\n",
    "ax.set_title('Customers by foreigner index')\n",
    "ax.set_xlabel('Type') \n",
    "ax.grid(color = 'grey', linestyle = '--', linewidth = 0.5)\n",
    "\n",
    "plt.show()"
   ]
  },
  {
   "cell_type": "markdown",
   "id": "31ef5f4e",
   "metadata": {},
   "source": [
    "This column is unbalenced as well so the best course of action will be to remove it."
   ]
  },
  {
   "cell_type": "code",
   "execution_count": 19,
   "id": "434b4927",
   "metadata": {},
   "outputs": [],
   "source": [
    "df = df.drop(columns=['Foreigner index'])"
   ]
  },
  {
   "cell_type": "code",
   "execution_count": 20,
   "id": "4494a623",
   "metadata": {},
   "outputs": [
    {
     "data": {
      "text/html": [
       "<div>\n",
       "<style scoped>\n",
       "    .dataframe tbody tr th:only-of-type {\n",
       "        vertical-align: middle;\n",
       "    }\n",
       "\n",
       "    .dataframe tbody tr th {\n",
       "        vertical-align: top;\n",
       "    }\n",
       "\n",
       "    .dataframe thead th {\n",
       "        text-align: right;\n",
       "    }\n",
       "</style>\n",
       "<table border=\"1\" class=\"dataframe\">\n",
       "  <thead>\n",
       "    <tr style=\"text-align: right;\">\n",
       "      <th></th>\n",
       "      <th>Customer Code</th>\n",
       "      <th>Gender</th>\n",
       "      <th>Age</th>\n",
       "      <th>New Customer</th>\n",
       "      <th>Customer Seniority(months)</th>\n",
       "      <th>Customer relation type</th>\n",
       "      <th>Channel joined</th>\n",
       "      <th>Province</th>\n",
       "      <th>Gross Income</th>\n",
       "    </tr>\n",
       "  </thead>\n",
       "  <tbody>\n",
       "    <tr>\n",
       "      <th>0</th>\n",
       "      <td>1375586</td>\n",
       "      <td>F</td>\n",
       "      <td>35</td>\n",
       "      <td>0</td>\n",
       "      <td>6</td>\n",
       "      <td>A</td>\n",
       "      <td>KHL</td>\n",
       "      <td>MALAGA</td>\n",
       "      <td>87218.10000</td>\n",
       "    </tr>\n",
       "    <tr>\n",
       "      <th>1</th>\n",
       "      <td>1050611</td>\n",
       "      <td>M</td>\n",
       "      <td>23</td>\n",
       "      <td>0</td>\n",
       "      <td>35</td>\n",
       "      <td>I</td>\n",
       "      <td>KHE</td>\n",
       "      <td>CIUDAD REAL</td>\n",
       "      <td>35548.74000</td>\n",
       "    </tr>\n",
       "    <tr>\n",
       "      <th>2</th>\n",
       "      <td>1050612</td>\n",
       "      <td>M</td>\n",
       "      <td>23</td>\n",
       "      <td>0</td>\n",
       "      <td>35</td>\n",
       "      <td>I</td>\n",
       "      <td>KHE</td>\n",
       "      <td>CIUDAD REAL</td>\n",
       "      <td>122179.11000</td>\n",
       "    </tr>\n",
       "    <tr>\n",
       "      <th>3</th>\n",
       "      <td>1050613</td>\n",
       "      <td>F</td>\n",
       "      <td>22</td>\n",
       "      <td>0</td>\n",
       "      <td>35</td>\n",
       "      <td>I</td>\n",
       "      <td>KHD</td>\n",
       "      <td>ZARAGOZA</td>\n",
       "      <td>119775.54000</td>\n",
       "    </tr>\n",
       "    <tr>\n",
       "      <th>4</th>\n",
       "      <td>1050614</td>\n",
       "      <td>M</td>\n",
       "      <td>23</td>\n",
       "      <td>0</td>\n",
       "      <td>35</td>\n",
       "      <td>A</td>\n",
       "      <td>KHE</td>\n",
       "      <td>ZARAGOZA</td>\n",
       "      <td>139646.15094</td>\n",
       "    </tr>\n",
       "  </tbody>\n",
       "</table>\n",
       "</div>"
      ],
      "text/plain": [
       "   Customer Code Gender  Age  New Customer  Customer Seniority(months)  \\\n",
       "0        1375586      F   35             0                           6   \n",
       "1        1050611      M   23             0                          35   \n",
       "2        1050612      M   23             0                          35   \n",
       "3        1050613      F   22             0                          35   \n",
       "4        1050614      M   23             0                          35   \n",
       "\n",
       "  Customer relation type Channel joined     Province  Gross Income  \n",
       "0                      A            KHL       MALAGA   87218.10000  \n",
       "1                      I            KHE  CIUDAD REAL   35548.74000  \n",
       "2                      I            KHE  CIUDAD REAL  122179.11000  \n",
       "3                      I            KHD     ZARAGOZA  119775.54000  \n",
       "4                      A            KHE     ZARAGOZA  139646.15094  "
      ]
     },
     "execution_count": 20,
     "metadata": {},
     "output_type": "execute_result"
    }
   ],
   "source": [
    "df.head()"
   ]
  },
  {
   "cell_type": "code",
   "execution_count": 21,
   "id": "c9692691",
   "metadata": {
    "scrolled": true
   },
   "outputs": [
    {
     "name": "stdout",
     "output_type": "stream",
     "text": [
      "KHL : 773\n",
      "KHE : 249027\n",
      "KHD : 5834\n",
      "KFA : 36552\n",
      "KFC : 258060\n",
      "KAT : 311067\n",
      "KAZ : 2099\n",
      "RED : 4319\n",
      "KHC : 851\n",
      "KHK : 5917\n",
      "KGN : 1\n",
      "KHM : 18\n",
      "KHO : 1\n",
      "KDH : 12\n",
      "KEH : 121\n",
      "KAD : 1104\n",
      "KBG : 185\n",
      "KGC : 1\n",
      "KHF : 1058\n",
      "KFK : 289\n",
      "KHA : 3\n",
      "KAF : 3089\n",
      "KGX : 762\n",
      "KFD : 3807\n",
      "KAG : 7423\n",
      "KFG : 586\n",
      "KAB : 5921\n",
      "KCC : 4728\n",
      "KAE : 4699\n",
      "KAH : 2353\n",
      "KAR : 2846\n",
      "KFJ : 464\n",
      "KFL : 320\n",
      "KAI : 3568\n",
      "KFU : 352\n",
      "KAQ : 1513\n",
      "KHN : 29\n",
      "KFS : 448\n",
      "KAA : 6172\n",
      "KFP : 795\n",
      "KAJ : 1910\n",
      "KFN : 360\n",
      "KGV : 784\n",
      "KGY : 354\n",
      "KFF : 439\n",
      "KAP : 1217\n",
      "KDE : 52\n",
      "KFV : 3\n",
      "013 : 2957\n",
      "K00 : 13\n",
      "KAK : 93\n",
      "KCK : 81\n",
      "KCL : 372\n",
      "KAY : 6079\n",
      "KBU : 240\n",
      "KDR : 682\n",
      "KAC : 765\n",
      "KDT : 131\n",
      "KCG : 554\n",
      "KDO : 122\n",
      "KDY : 120\n",
      "KBQ : 396\n",
      "KDA : 26\n",
      "KBO : 604\n",
      "KCI : 2204\n",
      "KEC : 22\n",
      "KBZ : 4318\n",
      "KES : 609\n",
      "KDX : 107\n",
      "KAS : 8092\n",
      "007 : 1980\n",
      "KEU : 26\n",
      "KCA : 134\n",
      "KAL : 627\n",
      "KDC : 116\n",
      "KAW : 3275\n",
      "KCS : 18\n",
      "KCB : 486\n",
      "KDU : 183\n",
      "KDQ : 108\n",
      "KCN : 90\n",
      "KCM : 290\n",
      "004 : 14\n",
      "KCH : 1845\n",
      "KCD : 262\n",
      "KCE : 26\n",
      "KEV : 86\n",
      "KBL : 48\n",
      "KEA : 56\n",
      "KBH : 614\n",
      "KDV : 36\n",
      "KFT : 619\n",
      "KEY : 3360\n",
      "KAO : 545\n",
      "KEJ : 727\n",
      "KEO : 76\n",
      "KEI : 102\n",
      "KEW : 576\n",
      "KDZ : 34\n",
      "KBV : 68\n",
      "KBR : 180\n",
      "KBF : 284\n",
      "KDP : 66\n",
      "KCO : 12\n",
      "KCF : 30\n",
      "KCV : 14\n",
      "KAM : 1014\n",
      "KEZ : 247\n",
      "KBD : 18\n",
      "KAN : 142\n",
      "KBY : 46\n",
      "KCT : 2\n",
      "KDD : 24\n",
      "KBW : 74\n",
      "KCU : 76\n",
      "KBX : 12\n",
      "KDB : 2\n",
      "KBS : 52\n",
      "KBE : 16\n",
      "KCX : 4\n",
      "KBP : 10\n",
      "KEB : 28\n",
      "KDS : 106\n",
      "KEL : 230\n",
      "KDG : 28\n",
      "KDF : 58\n",
      "KEF : 18\n",
      "KCP : 16\n",
      "KDM : 184\n",
      "KBB : 108\n",
      "KDW : 72\n",
      "KBJ : 50\n",
      "KFI : 68\n",
      "KBM : 54\n",
      "KEG : 192\n",
      "KEN : 434\n",
      "KEQ : 12\n",
      "KAV : 12\n",
      "KFH : 162\n",
      "KFM : 32\n",
      "KAU : 28\n",
      "KED : 290\n",
      "KFR : 32\n",
      "KEK : 52\n",
      "KFB : 10\n",
      "KGW : 60\n",
      "KFE : 22\n",
      "KGU : 2\n",
      "KDI : 2\n",
      "KDN : 18\n",
      "KEE : 18\n",
      "KCR : 22\n",
      "KCQ : 22\n",
      "KEM : 8\n",
      "KCJ : 24\n"
     ]
    }
   ],
   "source": [
    "xa = df['Channel joined'].unique()\n",
    "for x in xa:\n",
    "    print(x, ':', len(df[df['Channel joined'] == x]))"
   ]
  },
  {
   "cell_type": "code",
   "execution_count": 22,
   "id": "39760e02",
   "metadata": {
    "scrolled": true
   },
   "outputs": [
    {
     "name": "stdout",
     "output_type": "stream",
     "text": [
      "MALAGA : 26791\n",
      "CIUDAD REAL : 7782\n",
      "ZARAGOZA : 24617\n",
      "TOLEDO : 12129\n",
      "LEON : 5962\n",
      "GIPUZKOA : 5708\n",
      "CACERES : 8347\n",
      "GIRONA : 5735\n",
      "ZAMORA : 3213\n",
      "BARCELONA : 87360\n",
      "SALAMANCA : 10650\n",
      "BURGOS : 6403\n",
      "HUESCA : 2657\n",
      "NAVARRA : 6584\n",
      "AVILA : 2573\n",
      "SEGOVIA : 2979\n",
      "LUGO : 5259\n",
      "LERIDA : 4845\n",
      "MADRID : 360046\n",
      "ALICANTE : 20321\n",
      "SORIA : 1179\n",
      "SEVILLA : 43910\n",
      "CANTABRIA : 11262\n",
      "BALEARS, ILLES : 8361\n",
      "VALLADOLID : 16656\n",
      "PONTEVEDRA : 17480\n",
      "VALENCIA : 46391\n",
      "TERUEL : 1397\n",
      "CORUÑA, A : 27544\n",
      "OURENSE : 5151\n",
      "JAEN : 4492\n",
      "CUENCA : 3768\n",
      "BIZKAIA : 15597\n",
      "CASTELLON : 6710\n",
      "RIOJA, LA : 5991\n",
      "ALBACETE : 7294\n",
      "BADAJOZ : 11908\n",
      "MURCIA : 24777\n",
      "CADIZ : 20291\n",
      "ALMERIA : 4021\n",
      "GUADALAJARA : 4325\n",
      "PALENCIA : 3223\n",
      "PALMAS, LAS : 15971\n",
      "CORDOBA : 9828\n",
      "HUELVA : 7921\n",
      "GRANADA : 12927\n",
      "ASTURIAS : 18397\n",
      "SANTA CRUZ DE TENERIFE : 5080\n",
      "MELILLA : 762\n",
      "TARRAGONA : 6120\n",
      "ALAVA : 2878\n",
      "CEUTA : 526\n"
     ]
    }
   ],
   "source": [
    "xa = df['Province'].unique()\n",
    "for x in xa:\n",
    "    print(x, ':', len(df[df['Province'] == x]))"
   ]
  },
  {
   "cell_type": "markdown",
   "id": "edfd87ec",
   "metadata": {},
   "source": [
    "#### Outliers"
   ]
  },
  {
   "cell_type": "code",
   "execution_count": 23,
   "id": "1618cb08",
   "metadata": {},
   "outputs": [
    {
     "data": {
      "image/png": "[encoded data removed]",
      "text/plain": [
       "<Figure size 720x432 with 1 Axes>"
      ]
     },
     "metadata": {
      "needs_background": "light"
     },
     "output_type": "display_data"
    }
   ],
   "source": [
    "fig,ax = plt.subplots()\n",
    "\n",
    "rects = ax.boxplot(df['Gross Income'])\n",
    "fig.set_figheight(6)\n",
    "fig.set_figwidth(10)\n",
    "\n",
    "ax.set_title('Gross Income Box Plot(Before)')\n",
    "\n",
    "\n",
    "plt.show()"
   ]
  },
  {
   "cell_type": "markdown",
   "id": "cc38a102",
   "metadata": {},
   "source": [
    "Has many outliers and has to be removed."
   ]
  },
  {
   "cell_type": "markdown",
   "id": "4cd9195a",
   "metadata": {},
   "source": [
    "##### Removing using z score method"
   ]
  },
  {
   "cell_type": "code",
   "execution_count": 24,
   "id": "3b8ed8b7",
   "metadata": {},
   "outputs": [],
   "source": [
    "df['Gross Income z score'] = np.abs(stats.zscore(df['Gross Income']))\n",
    "threshold = 0.5\n",
    "df = df[df['Gross Income z score'] < threshold]\n",
    "df = df.drop(columns = ['Gross Income z score'])"
   ]
  },
  {
   "cell_type": "code",
   "execution_count": 25,
   "id": "284630ff",
   "metadata": {},
   "outputs": [
    {
     "data": {
      "image/png": "[encoded data removed]",
      "text/plain": [
       "<Figure size 720x432 with 1 Axes>"
      ]
     },
     "metadata": {
      "needs_background": "light"
     },
     "output_type": "display_data"
    }
   ],
   "source": [
    "fig,ax = plt.subplots()\n",
    "\n",
    "rects = ax.boxplot(df['Gross Income'])\n",
    "fig.set_figheight(6)\n",
    "fig.set_figwidth(10)\n",
    "\n",
    "ax.set_title('Gross Income Box Plot(After)')\n",
    "\n",
    "\n",
    "plt.show()"
   ]
  },
  {
   "cell_type": "markdown",
   "id": "539423de",
   "metadata": {},
   "source": [
    "Now the Gross income column is balenced and most of the outliers have been eliminated. This process can be repeated to completely eliminate outliers from this column but I have decided that this should be sufficent for us moving forward."
   ]
  },
  {
   "cell_type": "markdown",
   "id": "5616fa09",
   "metadata": {},
   "source": [
    "#### Similarly for age column"
   ]
  },
  {
   "cell_type": "code",
   "execution_count": 26,
   "id": "7e62b735",
   "metadata": {},
   "outputs": [
    {
     "data": {
      "image/png": "[encoded data removed]",
      "text/plain": [
       "<Figure size 720x432 with 1 Axes>"
      ]
     },
     "metadata": {
      "needs_background": "light"
     },
     "output_type": "display_data"
    }
   ],
   "source": [
    "fig,ax = plt.subplots()\n",
    "\n",
    "rects = ax.boxplot(df['Age'])\n",
    "fig.set_figheight(6)\n",
    "fig.set_figwidth(10)\n",
    "\n",
    "ax.set_title('Age Box Plot(before)')\n",
    "\n",
    "plt.show()"
   ]
  },
  {
   "cell_type": "code",
   "execution_count": 27,
   "id": "1cc20c49",
   "metadata": {},
   "outputs": [],
   "source": [
    "df['Age z score'] = np.abs(stats.zscore(df['Age']))\n",
    "threshold = 2\n",
    "df = df[df['Age z score'] < threshold]\n",
    "df = df.drop(columns = ['Age z score'])"
   ]
  },
  {
   "cell_type": "code",
   "execution_count": 28,
   "id": "bac30391",
   "metadata": {},
   "outputs": [
    {
     "data": {
      "image/png": "[encoded data removed]",
      "text/plain": [
       "<Figure size 720x432 with 1 Axes>"
      ]
     },
     "metadata": {
      "needs_background": "light"
     },
     "output_type": "display_data"
    }
   ],
   "source": [
    "fig,ax = plt.subplots()\n",
    "\n",
    "rects = ax.boxplot(df['Age'])\n",
    "fig.set_figheight(6)\n",
    "fig.set_figwidth(10)\n",
    "\n",
    "ax.set_title('Age Box Plot(After)')\n",
    "\n",
    "plt.show()"
   ]
  },
  {
   "cell_type": "markdown",
   "id": "06fec1bd",
   "metadata": {},
   "source": [
    "Outliers have been removed from age column."
   ]
  },
  {
   "cell_type": "code",
   "execution_count": 29,
   "id": "db32113f",
   "metadata": {},
   "outputs": [
    {
     "data": {
      "text/html": [
       "<div>\n",
       "<style scoped>\n",
       "    .dataframe tbody tr th:only-of-type {\n",
       "        vertical-align: middle;\n",
       "    }\n",
       "\n",
       "    .dataframe tbody tr th {\n",
       "        vertical-align: top;\n",
       "    }\n",
       "\n",
       "    .dataframe thead th {\n",
       "        text-align: right;\n",
       "    }\n",
       "</style>\n",
       "<table border=\"1\" class=\"dataframe\">\n",
       "  <thead>\n",
       "    <tr style=\"text-align: right;\">\n",
       "      <th></th>\n",
       "      <th>Customer Code</th>\n",
       "      <th>Gender</th>\n",
       "      <th>Age</th>\n",
       "      <th>New Customer</th>\n",
       "      <th>Customer Seniority(months)</th>\n",
       "      <th>Customer relation type</th>\n",
       "      <th>Channel joined</th>\n",
       "      <th>Province</th>\n",
       "      <th>Gross Income</th>\n",
       "    </tr>\n",
       "  </thead>\n",
       "  <tbody>\n",
       "    <tr>\n",
       "      <th>0</th>\n",
       "      <td>1375586</td>\n",
       "      <td>F</td>\n",
       "      <td>35</td>\n",
       "      <td>0</td>\n",
       "      <td>6</td>\n",
       "      <td>A</td>\n",
       "      <td>KHL</td>\n",
       "      <td>MALAGA</td>\n",
       "      <td>87218.10000</td>\n",
       "    </tr>\n",
       "    <tr>\n",
       "      <th>1</th>\n",
       "      <td>1050611</td>\n",
       "      <td>M</td>\n",
       "      <td>23</td>\n",
       "      <td>0</td>\n",
       "      <td>35</td>\n",
       "      <td>I</td>\n",
       "      <td>KHE</td>\n",
       "      <td>CIUDAD REAL</td>\n",
       "      <td>35548.74000</td>\n",
       "    </tr>\n",
       "    <tr>\n",
       "      <th>2</th>\n",
       "      <td>1050612</td>\n",
       "      <td>M</td>\n",
       "      <td>23</td>\n",
       "      <td>0</td>\n",
       "      <td>35</td>\n",
       "      <td>I</td>\n",
       "      <td>KHE</td>\n",
       "      <td>CIUDAD REAL</td>\n",
       "      <td>122179.11000</td>\n",
       "    </tr>\n",
       "    <tr>\n",
       "      <th>3</th>\n",
       "      <td>1050613</td>\n",
       "      <td>F</td>\n",
       "      <td>22</td>\n",
       "      <td>0</td>\n",
       "      <td>35</td>\n",
       "      <td>I</td>\n",
       "      <td>KHD</td>\n",
       "      <td>ZARAGOZA</td>\n",
       "      <td>119775.54000</td>\n",
       "    </tr>\n",
       "    <tr>\n",
       "      <th>4</th>\n",
       "      <td>1050614</td>\n",
       "      <td>M</td>\n",
       "      <td>23</td>\n",
       "      <td>0</td>\n",
       "      <td>35</td>\n",
       "      <td>A</td>\n",
       "      <td>KHE</td>\n",
       "      <td>ZARAGOZA</td>\n",
       "      <td>139646.15094</td>\n",
       "    </tr>\n",
       "  </tbody>\n",
       "</table>\n",
       "</div>"
      ],
      "text/plain": [
       "   Customer Code Gender  Age  New Customer  Customer Seniority(months)  \\\n",
       "0        1375586      F   35             0                           6   \n",
       "1        1050611      M   23             0                          35   \n",
       "2        1050612      M   23             0                          35   \n",
       "3        1050613      F   22             0                          35   \n",
       "4        1050614      M   23             0                          35   \n",
       "\n",
       "  Customer relation type Channel joined     Province  Gross Income  \n",
       "0                      A            KHL       MALAGA   87218.10000  \n",
       "1                      I            KHE  CIUDAD REAL   35548.74000  \n",
       "2                      I            KHE  CIUDAD REAL  122179.11000  \n",
       "3                      I            KHD     ZARAGOZA  119775.54000  \n",
       "4                      A            KHE     ZARAGOZA  139646.15094  "
      ]
     },
     "execution_count": 29,
     "metadata": {},
     "output_type": "execute_result"
    }
   ],
   "source": [
    "df.head()"
   ]
  },
  {
   "cell_type": "markdown",
   "id": "97975fa9",
   "metadata": {},
   "source": [
    "Similarly for Customer Seniority"
   ]
  },
  {
   "cell_type": "code",
   "execution_count": 30,
   "id": "a5477c9e",
   "metadata": {},
   "outputs": [
    {
     "data": {
      "image/png": "[encoded data removed]",
      "text/plain": [
       "<Figure size 720x432 with 1 Axes>"
      ]
     },
     "metadata": {
      "needs_background": "light"
     },
     "output_type": "display_data"
    }
   ],
   "source": [
    "fig,ax = plt.subplots()\n",
    "\n",
    "rects = ax.boxplot(df['Customer Seniority(months)'])\n",
    "fig.set_figheight(6)\n",
    "fig.set_figwidth(10)\n",
    "\n",
    "ax.set_title('Customer Seniority Box Plot(After)')\n",
    "\n",
    "plt.show()"
   ]
  },
  {
   "cell_type": "markdown",
   "id": "92f94657",
   "metadata": {},
   "source": [
    "Not many outliers present so no need to change the data."
   ]
  },
  {
   "cell_type": "code",
   "execution_count": null,
   "id": "57a1ebd2",
   "metadata": {},
   "outputs": [],
   "source": []
  },
  {
   "cell_type": "code",
   "execution_count": 31,
   "id": "33505522",
   "metadata": {},
   "outputs": [],
   "source": [
    "#df.to_csv('dataset1.csv', index = False)"
   ]
  }
 ],
 "metadata": {
  "kernelspec": {
   "display_name": "Python 3",
   "language": "python",
   "name": "python3"
  },
  "language_info": {
   "codemirror_mode": {
    "name": "ipython",
    "version": 3
   },
   "file_extension": ".py",
   "mimetype": "text/x-python",
   "name": "python",
   "nbconvert_exporter": "python",
   "pygments_lexer": "ipython3",
   "version": "3.8.8"
  }
 },
 "nbformat": 4,
 "nbformat_minor": 5
}
