{
 "cells": [
  {
   "cell_type": "code",
   "execution_count": 1,
   "id": "a62a4354",
   "metadata": {},
   "outputs": [],
   "source": [
    "import pandas as pd\n",
    "import numpy as np"
   ]
  },
  {
   "cell_type": "code",
   "execution_count": 2,
   "id": "19a4c3c8",
   "metadata": {},
   "outputs": [
    {
     "name": "stderr",
     "output_type": "stream",
     "text": [
      "C:\\ProgramData\\Anaconda3\\lib\\site-packages\\IPython\\core\\interactiveshell.py:3165: DtypeWarning: Columns (16) have mixed types.Specify dtype option on import or set low_memory=False.\n",
      "  has_raised = await self.run_ast_nodes(code_ast.body, cell_name,\n"
     ]
    }
   ],
   "source": [
    "df = pd.read_csv('cust_seg.csv')\n"
   ]
  },
  {
   "cell_type": "code",
   "execution_count": 3,
   "id": "2e4e4127",
   "metadata": {},
   "outputs": [
    {
     "data": {
      "text/html": [
       "<div>\n",
       "<style scoped>\n",
       "    .dataframe tbody tr th:only-of-type {\n",
       "        vertical-align: middle;\n",
       "    }\n",
       "\n",
       "    .dataframe tbody tr th {\n",
       "        vertical-align: top;\n",
       "    }\n",
       "\n",
       "    .dataframe thead th {\n",
       "        text-align: right;\n",
       "    }\n",
       "</style>\n",
       "<table border=\"1\" class=\"dataframe\">\n",
       "  <thead>\n",
       "    <tr style=\"text-align: right;\">\n",
       "      <th></th>\n",
       "      <th>fecha_dato</th>\n",
       "      <th>ncodpers</th>\n",
       "      <th>ind_empleado</th>\n",
       "      <th>pais_residencia</th>\n",
       "      <th>sexo</th>\n",
       "      <th>age</th>\n",
       "      <th>fecha_alta</th>\n",
       "      <th>ind_nuevo</th>\n",
       "      <th>antiguedad</th>\n",
       "      <th>indrel</th>\n",
       "      <th>...</th>\n",
       "      <th>ind_hip_fin_ult1</th>\n",
       "      <th>ind_plan_fin_ult1</th>\n",
       "      <th>ind_pres_fin_ult1</th>\n",
       "      <th>ind_reca_fin_ult1</th>\n",
       "      <th>ind_tjcr_fin_ult1</th>\n",
       "      <th>ind_valo_fin_ult1</th>\n",
       "      <th>ind_viv_fin_ult1</th>\n",
       "      <th>ind_nomina_ult1</th>\n",
       "      <th>ind_nom_pens_ult1</th>\n",
       "      <th>ind_recibo_ult1</th>\n",
       "    </tr>\n",
       "  </thead>\n",
       "  <tbody>\n",
       "    <tr>\n",
       "      <th>0</th>\n",
       "      <td>2015-01-28</td>\n",
       "      <td>1375586</td>\n",
       "      <td>N</td>\n",
       "      <td>ES</td>\n",
       "      <td>H</td>\n",
       "      <td>35</td>\n",
       "      <td>2015-01-12</td>\n",
       "      <td>0.0</td>\n",
       "      <td>6</td>\n",
       "      <td>1.0</td>\n",
       "      <td>...</td>\n",
       "      <td>0</td>\n",
       "      <td>0</td>\n",
       "      <td>0</td>\n",
       "      <td>0</td>\n",
       "      <td>0</td>\n",
       "      <td>0</td>\n",
       "      <td>0</td>\n",
       "      <td>0.0</td>\n",
       "      <td>0.0</td>\n",
       "      <td>0</td>\n",
       "    </tr>\n",
       "    <tr>\n",
       "      <th>1</th>\n",
       "      <td>2015-01-28</td>\n",
       "      <td>1050611</td>\n",
       "      <td>N</td>\n",
       "      <td>ES</td>\n",
       "      <td>V</td>\n",
       "      <td>23</td>\n",
       "      <td>2012-08-10</td>\n",
       "      <td>0.0</td>\n",
       "      <td>35</td>\n",
       "      <td>1.0</td>\n",
       "      <td>...</td>\n",
       "      <td>0</td>\n",
       "      <td>0</td>\n",
       "      <td>0</td>\n",
       "      <td>0</td>\n",
       "      <td>0</td>\n",
       "      <td>0</td>\n",
       "      <td>0</td>\n",
       "      <td>0.0</td>\n",
       "      <td>0.0</td>\n",
       "      <td>0</td>\n",
       "    </tr>\n",
       "    <tr>\n",
       "      <th>2</th>\n",
       "      <td>2015-01-28</td>\n",
       "      <td>1050612</td>\n",
       "      <td>N</td>\n",
       "      <td>ES</td>\n",
       "      <td>V</td>\n",
       "      <td>23</td>\n",
       "      <td>2012-08-10</td>\n",
       "      <td>0.0</td>\n",
       "      <td>35</td>\n",
       "      <td>1.0</td>\n",
       "      <td>...</td>\n",
       "      <td>0</td>\n",
       "      <td>0</td>\n",
       "      <td>0</td>\n",
       "      <td>0</td>\n",
       "      <td>0</td>\n",
       "      <td>0</td>\n",
       "      <td>0</td>\n",
       "      <td>0.0</td>\n",
       "      <td>0.0</td>\n",
       "      <td>0</td>\n",
       "    </tr>\n",
       "    <tr>\n",
       "      <th>3</th>\n",
       "      <td>2015-01-28</td>\n",
       "      <td>1050613</td>\n",
       "      <td>N</td>\n",
       "      <td>ES</td>\n",
       "      <td>H</td>\n",
       "      <td>22</td>\n",
       "      <td>2012-08-10</td>\n",
       "      <td>0.0</td>\n",
       "      <td>35</td>\n",
       "      <td>1.0</td>\n",
       "      <td>...</td>\n",
       "      <td>0</td>\n",
       "      <td>0</td>\n",
       "      <td>0</td>\n",
       "      <td>0</td>\n",
       "      <td>0</td>\n",
       "      <td>0</td>\n",
       "      <td>0</td>\n",
       "      <td>0.0</td>\n",
       "      <td>0.0</td>\n",
       "      <td>0</td>\n",
       "    </tr>\n",
       "    <tr>\n",
       "      <th>4</th>\n",
       "      <td>2015-01-28</td>\n",
       "      <td>1050614</td>\n",
       "      <td>N</td>\n",
       "      <td>ES</td>\n",
       "      <td>V</td>\n",
       "      <td>23</td>\n",
       "      <td>2012-08-10</td>\n",
       "      <td>0.0</td>\n",
       "      <td>35</td>\n",
       "      <td>1.0</td>\n",
       "      <td>...</td>\n",
       "      <td>0</td>\n",
       "      <td>0</td>\n",
       "      <td>0</td>\n",
       "      <td>0</td>\n",
       "      <td>0</td>\n",
       "      <td>0</td>\n",
       "      <td>0</td>\n",
       "      <td>0.0</td>\n",
       "      <td>0.0</td>\n",
       "      <td>0</td>\n",
       "    </tr>\n",
       "  </tbody>\n",
       "</table>\n",
       "<p>5 rows × 47 columns</p>\n",
       "</div>"
      ],
      "text/plain": [
       "   fecha_dato  ncodpers ind_empleado pais_residencia sexo  age  fecha_alta  \\\n",
       "0  2015-01-28   1375586            N              ES    H   35  2015-01-12   \n",
       "1  2015-01-28   1050611            N              ES    V   23  2012-08-10   \n",
       "2  2015-01-28   1050612            N              ES    V   23  2012-08-10   \n",
       "3  2015-01-28   1050613            N              ES    H   22  2012-08-10   \n",
       "4  2015-01-28   1050614            N              ES    V   23  2012-08-10   \n",
       "\n",
       "   ind_nuevo antiguedad  indrel  ... ind_hip_fin_ult1  ind_plan_fin_ult1  \\\n",
       "0        0.0          6     1.0  ...                0                  0   \n",
       "1        0.0         35     1.0  ...                0                  0   \n",
       "2        0.0         35     1.0  ...                0                  0   \n",
       "3        0.0         35     1.0  ...                0                  0   \n",
       "4        0.0         35     1.0  ...                0                  0   \n",
       "\n",
       "  ind_pres_fin_ult1 ind_reca_fin_ult1 ind_tjcr_fin_ult1 ind_valo_fin_ult1  \\\n",
       "0                 0                 0                 0                 0   \n",
       "1                 0                 0                 0                 0   \n",
       "2                 0                 0                 0                 0   \n",
       "3                 0                 0                 0                 0   \n",
       "4                 0                 0                 0                 0   \n",
       "\n",
       "  ind_viv_fin_ult1 ind_nomina_ult1  ind_nom_pens_ult1  ind_recibo_ult1  \n",
       "0                0             0.0                0.0                0  \n",
       "1                0             0.0                0.0                0  \n",
       "2                0             0.0                0.0                0  \n",
       "3                0             0.0                0.0                0  \n",
       "4                0             0.0                0.0                0  \n",
       "\n",
       "[5 rows x 47 columns]"
      ]
     },
     "execution_count": 3,
     "metadata": {},
     "output_type": "execute_result"
    }
   ],
   "source": [
    "df = df.drop('Unnamed: 0',axis=1)\n",
    "df.head()"
   ]
  },
  {
   "cell_type": "code",
   "execution_count": 4,
   "id": "1bd95949",
   "metadata": {},
   "outputs": [
    {
     "data": {
      "text/plain": [
       "Index(['fecha_dato', 'ncodpers', 'ind_empleado', 'pais_residencia', 'sexo',\n",
       "       'age', 'fecha_alta', 'ind_nuevo', 'antiguedad', 'indrel',\n",
       "       'ult_fec_cli_1t', 'indrel_1mes', 'tiprel_1mes', 'indresi', 'indext',\n",
       "       'conyuemp', 'canal_entrada', 'indfall', 'tipodom', 'cod_prov',\n",
       "       'nomprov', 'ind_actividad_cliente', 'renta', 'ind_ahor_fin_ult1',\n",
       "       'ind_aval_fin_ult1', 'ind_cco_fin_ult1', 'ind_cder_fin_ult1',\n",
       "       'ind_cno_fin_ult1', 'ind_ctju_fin_ult1', 'ind_ctma_fin_ult1',\n",
       "       'ind_ctop_fin_ult1', 'ind_ctpp_fin_ult1', 'ind_deco_fin_ult1',\n",
       "       'ind_deme_fin_ult1', 'ind_dela_fin_ult1', 'ind_ecue_fin_ult1',\n",
       "       'ind_fond_fin_ult1', 'ind_hip_fin_ult1', 'ind_plan_fin_ult1',\n",
       "       'ind_pres_fin_ult1', 'ind_reca_fin_ult1', 'ind_tjcr_fin_ult1',\n",
       "       'ind_valo_fin_ult1', 'ind_viv_fin_ult1', 'ind_nomina_ult1',\n",
       "       'ind_nom_pens_ult1', 'ind_recibo_ult1'],\n",
       "      dtype='object')"
      ]
     },
     "execution_count": 4,
     "metadata": {},
     "output_type": "execute_result"
    }
   ],
   "source": [
    "df.columns"
   ]
  },
  {
   "cell_type": "code",
   "execution_count": 5,
   "id": "5f6eaea8",
   "metadata": {},
   "outputs": [
    {
     "data": {
      "text/plain": [
       "(1000000, 47)"
      ]
     },
     "execution_count": 5,
     "metadata": {},
     "output_type": "execute_result"
    }
   ],
   "source": [
    "df.shape"
   ]
  },
  {
   "cell_type": "markdown",
   "id": "9707eac2",
   "metadata": {},
   "source": [
    "### This is a unsupervised machine learning problem, since there is no classification or target variable, the data is to be segmented into groups to provide targeted advertisements."
   ]
  },
  {
   "cell_type": "markdown",
   "id": "bf7282af",
   "metadata": {},
   "source": [
    "### Step 1: Cleaning the data"
   ]
  },
  {
   "cell_type": "markdown",
   "id": "855f8b18",
   "metadata": {},
   "source": [
    "#### NA values"
   ]
  },
  {
   "cell_type": "code",
   "execution_count": 6,
   "id": "17f572d6",
   "metadata": {},
   "outputs": [
    {
     "data": {
      "text/plain": [
       "fecha_dato                    0\n",
       "ncodpers                      0\n",
       "ind_empleado              10782\n",
       "pais_residencia           10782\n",
       "sexo                      10786\n",
       "age                           0\n",
       "fecha_alta                10782\n",
       "ind_nuevo                 10782\n",
       "antiguedad                    0\n",
       "indrel                    10782\n",
       "ult_fec_cli_1t           998899\n",
       "indrel_1mes               10782\n",
       "tiprel_1mes               10782\n",
       "indresi                   10782\n",
       "indext                    10782\n",
       "conyuemp                 999822\n",
       "canal_entrada             10861\n",
       "indfall                   10782\n",
       "tipodom                   10782\n",
       "cod_prov                  17734\n",
       "nomprov                   17734\n",
       "ind_actividad_cliente     10782\n",
       "renta                    175183\n",
       "ind_ahor_fin_ult1             0\n",
       "ind_aval_fin_ult1             0\n",
       "ind_cco_fin_ult1              0\n",
       "ind_cder_fin_ult1             0\n",
       "ind_cno_fin_ult1              0\n",
       "ind_ctju_fin_ult1             0\n",
       "ind_ctma_fin_ult1             0\n",
       "ind_ctop_fin_ult1             0\n",
       "ind_ctpp_fin_ult1             0\n",
       "ind_deco_fin_ult1             0\n",
       "ind_deme_fin_ult1             0\n",
       "ind_dela_fin_ult1             0\n",
       "ind_ecue_fin_ult1             0\n",
       "ind_fond_fin_ult1             0\n",
       "ind_hip_fin_ult1              0\n",
       "ind_plan_fin_ult1             0\n",
       "ind_pres_fin_ult1             0\n",
       "ind_reca_fin_ult1             0\n",
       "ind_tjcr_fin_ult1             0\n",
       "ind_valo_fin_ult1             0\n",
       "ind_viv_fin_ult1              0\n",
       "ind_nomina_ult1            5402\n",
       "ind_nom_pens_ult1          5402\n",
       "ind_recibo_ult1               0\n",
       "dtype: int64"
      ]
     },
     "execution_count": 6,
     "metadata": {},
     "output_type": "execute_result"
    }
   ],
   "source": [
    "df.isnull().sum()"
   ]
  },
  {
   "cell_type": "code",
   "execution_count": 7,
   "id": "ff021f06",
   "metadata": {},
   "outputs": [
    {
     "data": {
      "text/plain": [
       "(99.8899, 99.9822, 17.5183, 1.0782)"
      ]
     },
     "execution_count": 7,
     "metadata": {},
     "output_type": "execute_result"
    }
   ],
   "source": [
    "ratio = len(df['ult_fec_cli_1t'][df['ult_fec_cli_1t'].isnull()])/len(df['ult_fec_cli_1t'])\n",
    "ratio_2 = len(df['conyuemp'][df['conyuemp'].isnull()])/len(df['conyuemp'])\n",
    "ratio_3 = len(df['renta'][df['renta'].isnull()])/len(df['renta'])\n",
    "ratio_4 = len(df['ind_empleado'][df['ind_empleado'].isnull()])/len(df['ind_empleado'])\n",
    "ratio*100, ratio_2*100, ratio_3*100, ratio_4*100"
   ]
  },
  {
   "cell_type": "code",
   "execution_count": 8,
   "id": "760f0a1b",
   "metadata": {},
   "outputs": [
    {
     "data": {
      "text/plain": [
       "fecha_dato                   0\n",
       "ncodpers                     0\n",
       "ind_empleado             10782\n",
       "pais_residencia          10782\n",
       "sexo                     10782\n",
       "age                          0\n",
       "fecha_alta               10782\n",
       "ind_nuevo                10782\n",
       "antiguedad                   0\n",
       "indrel                   10782\n",
       "ult_fec_cli_1t           10782\n",
       "indrel_1mes              10782\n",
       "tiprel_1mes              10782\n",
       "indresi                  10782\n",
       "indext                   10782\n",
       "conyuemp                 10782\n",
       "canal_entrada            10782\n",
       "indfall                  10782\n",
       "tipodom                  10782\n",
       "cod_prov                 10782\n",
       "nomprov                  10782\n",
       "ind_actividad_cliente    10782\n",
       "renta                    10782\n",
       "ind_ahor_fin_ult1            0\n",
       "ind_aval_fin_ult1            0\n",
       "ind_cco_fin_ult1             0\n",
       "ind_cder_fin_ult1            0\n",
       "ind_cno_fin_ult1             0\n",
       "ind_ctju_fin_ult1            0\n",
       "ind_ctma_fin_ult1            0\n",
       "ind_ctop_fin_ult1            0\n",
       "ind_ctpp_fin_ult1            0\n",
       "ind_deco_fin_ult1            0\n",
       "ind_deme_fin_ult1            0\n",
       "ind_dela_fin_ult1            0\n",
       "ind_ecue_fin_ult1            0\n",
       "ind_fond_fin_ult1            0\n",
       "ind_hip_fin_ult1             0\n",
       "ind_plan_fin_ult1            0\n",
       "ind_pres_fin_ult1            0\n",
       "ind_reca_fin_ult1            0\n",
       "ind_tjcr_fin_ult1            0\n",
       "ind_valo_fin_ult1            0\n",
       "ind_viv_fin_ult1             0\n",
       "ind_nomina_ult1           5302\n",
       "ind_nom_pens_ult1         5302\n",
       "ind_recibo_ult1              0\n",
       "dtype: int64"
      ]
     },
     "execution_count": 8,
     "metadata": {},
     "output_type": "execute_result"
    }
   ],
   "source": [
    "df[df['ind_empleado'].isnull()].isnull().sum()"
   ]
  },
  {
   "cell_type": "markdown",
   "id": "8760af0b",
   "metadata": {},
   "source": [
    "As we can see the observations which have null values are overlapping, i.e same records have missing values in all columns."
   ]
  },
  {
   "cell_type": "markdown",
   "id": "64edec4b",
   "metadata": {},
   "source": [
    "#### The columns ult_fec_cli_1t and conyuemp have 99% null values so the best action would be to drop these two columns. The renta coulmn represents the gross income of the family, and has about 17% of null values, these null values can be replaced by the average of column. There are null values in other columns but they amount to around 1% of the dataset so I have decided to remove them from the dataset."
   ]
  },
  {
   "cell_type": "code",
   "execution_count": 9,
   "id": "4cecc9d5",
   "metadata": {},
   "outputs": [],
   "source": [
    "df = df.drop([\"ult_fec_cli_1t\",\"conyuemp\"], axis = 1)"
   ]
  },
  {
   "cell_type": "markdown",
   "id": "293fd5cb",
   "metadata": {},
   "source": [
    "Removed 2 columns"
   ]
  },
  {
   "cell_type": "code",
   "execution_count": 10,
   "id": "85f35a13",
   "metadata": {},
   "outputs": [
    {
     "data": {
      "text/plain": [
       "0.0"
      ]
     },
     "execution_count": 10,
     "metadata": {},
     "output_type": "execute_result"
    }
   ],
   "source": [
    "avg_renta = sum(df['renta'][df['renta'].notnull()])/len(df['renta'][df['renta'].notnull()])\n",
    "df['renta'].fillna(avg_renta, inplace = True)\n",
    "df['renta'][df['renta'].isnull()].sum()"
   ]
  },
  {
   "cell_type": "markdown",
   "id": "f956f78d",
   "metadata": {},
   "source": [
    "Replaced nulls in renta column with average value, now we can go ahead and remove all other null values."
   ]
  },
  {
   "cell_type": "code",
   "execution_count": 11,
   "id": "97111fda",
   "metadata": {},
   "outputs": [],
   "source": [
    "df = df.dropna()"
   ]
  },
  {
   "cell_type": "code",
   "execution_count": 12,
   "id": "ca288e5b",
   "metadata": {},
   "outputs": [
    {
     "data": {
      "text/plain": [
       "fecha_dato               0\n",
       "ncodpers                 0\n",
       "ind_empleado             0\n",
       "pais_residencia          0\n",
       "sexo                     0\n",
       "age                      0\n",
       "fecha_alta               0\n",
       "ind_nuevo                0\n",
       "antiguedad               0\n",
       "indrel                   0\n",
       "indrel_1mes              0\n",
       "tiprel_1mes              0\n",
       "indresi                  0\n",
       "indext                   0\n",
       "canal_entrada            0\n",
       "indfall                  0\n",
       "tipodom                  0\n",
       "cod_prov                 0\n",
       "nomprov                  0\n",
       "ind_actividad_cliente    0\n",
       "renta                    0\n",
       "ind_ahor_fin_ult1        0\n",
       "ind_aval_fin_ult1        0\n",
       "ind_cco_fin_ult1         0\n",
       "ind_cder_fin_ult1        0\n",
       "ind_cno_fin_ult1         0\n",
       "ind_ctju_fin_ult1        0\n",
       "ind_ctma_fin_ult1        0\n",
       "ind_ctop_fin_ult1        0\n",
       "ind_ctpp_fin_ult1        0\n",
       "ind_deco_fin_ult1        0\n",
       "ind_deme_fin_ult1        0\n",
       "ind_dela_fin_ult1        0\n",
       "ind_ecue_fin_ult1        0\n",
       "ind_fond_fin_ult1        0\n",
       "ind_hip_fin_ult1         0\n",
       "ind_plan_fin_ult1        0\n",
       "ind_pres_fin_ult1        0\n",
       "ind_reca_fin_ult1        0\n",
       "ind_tjcr_fin_ult1        0\n",
       "ind_valo_fin_ult1        0\n",
       "ind_viv_fin_ult1         0\n",
       "ind_nomina_ult1          0\n",
       "ind_nom_pens_ult1        0\n",
       "ind_recibo_ult1          0\n",
       "dtype: int64"
      ]
     },
     "execution_count": 12,
     "metadata": {},
     "output_type": "execute_result"
    }
   ],
   "source": [
    "df.isnull().sum()"
   ]
  },
  {
   "cell_type": "markdown",
   "id": "46f3f9ef",
   "metadata": {},
   "source": [
    "Data does not contain null values now."
   ]
  },
  {
   "cell_type": "code",
   "execution_count": 13,
   "id": "9796784b",
   "metadata": {},
   "outputs": [
    {
     "data": {
      "text/plain": [
       "(982105, 45)"
      ]
     },
     "execution_count": 13,
     "metadata": {},
     "output_type": "execute_result"
    }
   ],
   "source": [
    "df.shape"
   ]
  },
  {
   "cell_type": "markdown",
   "id": "bf2635c0",
   "metadata": {},
   "source": [
    "We have the shape of the final dataset here which has 2 columns removed and retains 98% of the observations."
   ]
  },
  {
   "cell_type": "markdown",
   "id": "cf019aa9",
   "metadata": {},
   "source": [
    "### Types of colums"
   ]
  },
  {
   "cell_type": "code",
   "execution_count": 14,
   "id": "cee09d65",
   "metadata": {},
   "outputs": [
    {
     "data": {
      "text/plain": [
       "fecha_dato                object\n",
       "ncodpers                   int64\n",
       "ind_empleado              object\n",
       "pais_residencia           object\n",
       "sexo                      object\n",
       "age                       object\n",
       "fecha_alta                object\n",
       "ind_nuevo                float64\n",
       "antiguedad                object\n",
       "indrel                   float64\n",
       "indrel_1mes              float64\n",
       "tiprel_1mes               object\n",
       "indresi                   object\n",
       "indext                    object\n",
       "canal_entrada             object\n",
       "indfall                   object\n",
       "tipodom                  float64\n",
       "cod_prov                 float64\n",
       "nomprov                   object\n",
       "ind_actividad_cliente    float64\n",
       "renta                    float64\n",
       "ind_ahor_fin_ult1          int64\n",
       "ind_aval_fin_ult1          int64\n",
       "ind_cco_fin_ult1           int64\n",
       "ind_cder_fin_ult1          int64\n",
       "ind_cno_fin_ult1           int64\n",
       "ind_ctju_fin_ult1          int64\n",
       "ind_ctma_fin_ult1          int64\n",
       "ind_ctop_fin_ult1          int64\n",
       "ind_ctpp_fin_ult1          int64\n",
       "ind_deco_fin_ult1          int64\n",
       "ind_deme_fin_ult1          int64\n",
       "ind_dela_fin_ult1          int64\n",
       "ind_ecue_fin_ult1          int64\n",
       "ind_fond_fin_ult1          int64\n",
       "ind_hip_fin_ult1           int64\n",
       "ind_plan_fin_ult1          int64\n",
       "ind_pres_fin_ult1          int64\n",
       "ind_reca_fin_ult1          int64\n",
       "ind_tjcr_fin_ult1          int64\n",
       "ind_valo_fin_ult1          int64\n",
       "ind_viv_fin_ult1           int64\n",
       "ind_nomina_ult1          float64\n",
       "ind_nom_pens_ult1        float64\n",
       "ind_recibo_ult1            int64\n",
       "dtype: object"
      ]
     },
     "execution_count": 14,
     "metadata": {},
     "output_type": "execute_result"
    }
   ],
   "source": [
    "df.dtypes"
   ]
  },
  {
   "cell_type": "code",
   "execution_count": 15,
   "id": "fa1f4d38",
   "metadata": {},
   "outputs": [],
   "source": [
    "df['fecha_dato'] = pd.to_datetime(df['fecha_dato'])"
   ]
  },
  {
   "cell_type": "code",
   "execution_count": 16,
   "id": "af2e46e9",
   "metadata": {},
   "outputs": [],
   "source": [
    "df['age'] = df['age'].astype(int)"
   ]
  },
  {
   "cell_type": "code",
   "execution_count": 17,
   "id": "b8effc06",
   "metadata": {},
   "outputs": [],
   "source": [
    "df['fecha_alta'] = pd.to_datetime(df['fecha_alta'])"
   ]
  },
  {
   "cell_type": "code",
   "execution_count": 18,
   "id": "db40f4fa",
   "metadata": {},
   "outputs": [],
   "source": [
    "df['antiguedad'] = df['antiguedad'].astype(int)"
   ]
  },
  {
   "cell_type": "markdown",
   "id": "0bdfcf8f",
   "metadata": {},
   "source": [
    "All columns have been assigned correct dtypes"
   ]
  },
  {
   "cell_type": "code",
   "execution_count": 19,
   "id": "e6d71f49",
   "metadata": {},
   "outputs": [
    {
     "data": {
      "text/plain": [
       "fecha_dato               datetime64[ns]\n",
       "ncodpers                          int64\n",
       "ind_empleado                     object\n",
       "pais_residencia                  object\n",
       "sexo                             object\n",
       "age                               int32\n",
       "fecha_alta               datetime64[ns]\n",
       "ind_nuevo                       float64\n",
       "antiguedad                        int32\n",
       "indrel                          float64\n",
       "indrel_1mes                     float64\n",
       "tiprel_1mes                      object\n",
       "indresi                          object\n",
       "indext                           object\n",
       "canal_entrada                    object\n",
       "indfall                          object\n",
       "tipodom                         float64\n",
       "cod_prov                        float64\n",
       "nomprov                          object\n",
       "ind_actividad_cliente           float64\n",
       "renta                           float64\n",
       "ind_ahor_fin_ult1                 int64\n",
       "ind_aval_fin_ult1                 int64\n",
       "ind_cco_fin_ult1                  int64\n",
       "ind_cder_fin_ult1                 int64\n",
       "ind_cno_fin_ult1                  int64\n",
       "ind_ctju_fin_ult1                 int64\n",
       "ind_ctma_fin_ult1                 int64\n",
       "ind_ctop_fin_ult1                 int64\n",
       "ind_ctpp_fin_ult1                 int64\n",
       "ind_deco_fin_ult1                 int64\n",
       "ind_deme_fin_ult1                 int64\n",
       "ind_dela_fin_ult1                 int64\n",
       "ind_ecue_fin_ult1                 int64\n",
       "ind_fond_fin_ult1                 int64\n",
       "ind_hip_fin_ult1                  int64\n",
       "ind_plan_fin_ult1                 int64\n",
       "ind_pres_fin_ult1                 int64\n",
       "ind_reca_fin_ult1                 int64\n",
       "ind_tjcr_fin_ult1                 int64\n",
       "ind_valo_fin_ult1                 int64\n",
       "ind_viv_fin_ult1                  int64\n",
       "ind_nomina_ult1                 float64\n",
       "ind_nom_pens_ult1               float64\n",
       "ind_recibo_ult1                   int64\n",
       "dtype: object"
      ]
     },
     "execution_count": 19,
     "metadata": {},
     "output_type": "execute_result"
    }
   ],
   "source": [
    "df.dtypes"
   ]
  },
  {
   "cell_type": "code",
   "execution_count": 20,
   "id": "27a0de58",
   "metadata": {},
   "outputs": [
    {
     "data": {
      "text/html": [
       "<div>\n",
       "<style scoped>\n",
       "    .dataframe tbody tr th:only-of-type {\n",
       "        vertical-align: middle;\n",
       "    }\n",
       "\n",
       "    .dataframe tbody tr th {\n",
       "        vertical-align: top;\n",
       "    }\n",
       "\n",
       "    .dataframe thead th {\n",
       "        text-align: right;\n",
       "    }\n",
       "</style>\n",
       "<table border=\"1\" class=\"dataframe\">\n",
       "  <thead>\n",
       "    <tr style=\"text-align: right;\">\n",
       "      <th></th>\n",
       "      <th>fecha_dato</th>\n",
       "      <th>ncodpers</th>\n",
       "      <th>ind_empleado</th>\n",
       "      <th>pais_residencia</th>\n",
       "      <th>sexo</th>\n",
       "      <th>age</th>\n",
       "      <th>fecha_alta</th>\n",
       "      <th>ind_nuevo</th>\n",
       "      <th>antiguedad</th>\n",
       "      <th>indrel</th>\n",
       "      <th>...</th>\n",
       "      <th>ind_hip_fin_ult1</th>\n",
       "      <th>ind_plan_fin_ult1</th>\n",
       "      <th>ind_pres_fin_ult1</th>\n",
       "      <th>ind_reca_fin_ult1</th>\n",
       "      <th>ind_tjcr_fin_ult1</th>\n",
       "      <th>ind_valo_fin_ult1</th>\n",
       "      <th>ind_viv_fin_ult1</th>\n",
       "      <th>ind_nomina_ult1</th>\n",
       "      <th>ind_nom_pens_ult1</th>\n",
       "      <th>ind_recibo_ult1</th>\n",
       "    </tr>\n",
       "  </thead>\n",
       "  <tbody>\n",
       "    <tr>\n",
       "      <th>0</th>\n",
       "      <td>2015-01-28</td>\n",
       "      <td>1375586</td>\n",
       "      <td>N</td>\n",
       "      <td>ES</td>\n",
       "      <td>H</td>\n",
       "      <td>35</td>\n",
       "      <td>2015-01-12</td>\n",
       "      <td>0.0</td>\n",
       "      <td>6</td>\n",
       "      <td>1.0</td>\n",
       "      <td>...</td>\n",
       "      <td>0</td>\n",
       "      <td>0</td>\n",
       "      <td>0</td>\n",
       "      <td>0</td>\n",
       "      <td>0</td>\n",
       "      <td>0</td>\n",
       "      <td>0</td>\n",
       "      <td>0.0</td>\n",
       "      <td>0.0</td>\n",
       "      <td>0</td>\n",
       "    </tr>\n",
       "    <tr>\n",
       "      <th>1</th>\n",
       "      <td>2015-01-28</td>\n",
       "      <td>1050611</td>\n",
       "      <td>N</td>\n",
       "      <td>ES</td>\n",
       "      <td>V</td>\n",
       "      <td>23</td>\n",
       "      <td>2012-08-10</td>\n",
       "      <td>0.0</td>\n",
       "      <td>35</td>\n",
       "      <td>1.0</td>\n",
       "      <td>...</td>\n",
       "      <td>0</td>\n",
       "      <td>0</td>\n",
       "      <td>0</td>\n",
       "      <td>0</td>\n",
       "      <td>0</td>\n",
       "      <td>0</td>\n",
       "      <td>0</td>\n",
       "      <td>0.0</td>\n",
       "      <td>0.0</td>\n",
       "      <td>0</td>\n",
       "    </tr>\n",
       "    <tr>\n",
       "      <th>2</th>\n",
       "      <td>2015-01-28</td>\n",
       "      <td>1050612</td>\n",
       "      <td>N</td>\n",
       "      <td>ES</td>\n",
       "      <td>V</td>\n",
       "      <td>23</td>\n",
       "      <td>2012-08-10</td>\n",
       "      <td>0.0</td>\n",
       "      <td>35</td>\n",
       "      <td>1.0</td>\n",
       "      <td>...</td>\n",
       "      <td>0</td>\n",
       "      <td>0</td>\n",
       "      <td>0</td>\n",
       "      <td>0</td>\n",
       "      <td>0</td>\n",
       "      <td>0</td>\n",
       "      <td>0</td>\n",
       "      <td>0.0</td>\n",
       "      <td>0.0</td>\n",
       "      <td>0</td>\n",
       "    </tr>\n",
       "    <tr>\n",
       "      <th>3</th>\n",
       "      <td>2015-01-28</td>\n",
       "      <td>1050613</td>\n",
       "      <td>N</td>\n",
       "      <td>ES</td>\n",
       "      <td>H</td>\n",
       "      <td>22</td>\n",
       "      <td>2012-08-10</td>\n",
       "      <td>0.0</td>\n",
       "      <td>35</td>\n",
       "      <td>1.0</td>\n",
       "      <td>...</td>\n",
       "      <td>0</td>\n",
       "      <td>0</td>\n",
       "      <td>0</td>\n",
       "      <td>0</td>\n",
       "      <td>0</td>\n",
       "      <td>0</td>\n",
       "      <td>0</td>\n",
       "      <td>0.0</td>\n",
       "      <td>0.0</td>\n",
       "      <td>0</td>\n",
       "    </tr>\n",
       "    <tr>\n",
       "      <th>4</th>\n",
       "      <td>2015-01-28</td>\n",
       "      <td>1050614</td>\n",
       "      <td>N</td>\n",
       "      <td>ES</td>\n",
       "      <td>V</td>\n",
       "      <td>23</td>\n",
       "      <td>2012-08-10</td>\n",
       "      <td>0.0</td>\n",
       "      <td>35</td>\n",
       "      <td>1.0</td>\n",
       "      <td>...</td>\n",
       "      <td>0</td>\n",
       "      <td>0</td>\n",
       "      <td>0</td>\n",
       "      <td>0</td>\n",
       "      <td>0</td>\n",
       "      <td>0</td>\n",
       "      <td>0</td>\n",
       "      <td>0.0</td>\n",
       "      <td>0.0</td>\n",
       "      <td>0</td>\n",
       "    </tr>\n",
       "  </tbody>\n",
       "</table>\n",
       "<p>5 rows × 45 columns</p>\n",
       "</div>"
      ],
      "text/plain": [
       "  fecha_dato  ncodpers ind_empleado pais_residencia sexo  age fecha_alta  \\\n",
       "0 2015-01-28   1375586            N              ES    H   35 2015-01-12   \n",
       "1 2015-01-28   1050611            N              ES    V   23 2012-08-10   \n",
       "2 2015-01-28   1050612            N              ES    V   23 2012-08-10   \n",
       "3 2015-01-28   1050613            N              ES    H   22 2012-08-10   \n",
       "4 2015-01-28   1050614            N              ES    V   23 2012-08-10   \n",
       "\n",
       "   ind_nuevo  antiguedad  indrel  ...  ind_hip_fin_ult1 ind_plan_fin_ult1  \\\n",
       "0        0.0           6     1.0  ...                 0                 0   \n",
       "1        0.0          35     1.0  ...                 0                 0   \n",
       "2        0.0          35     1.0  ...                 0                 0   \n",
       "3        0.0          35     1.0  ...                 0                 0   \n",
       "4        0.0          35     1.0  ...                 0                 0   \n",
       "\n",
       "  ind_pres_fin_ult1 ind_reca_fin_ult1 ind_tjcr_fin_ult1 ind_valo_fin_ult1  \\\n",
       "0                 0                 0                 0                 0   \n",
       "1                 0                 0                 0                 0   \n",
       "2                 0                 0                 0                 0   \n",
       "3                 0                 0                 0                 0   \n",
       "4                 0                 0                 0                 0   \n",
       "\n",
       "   ind_viv_fin_ult1  ind_nomina_ult1 ind_nom_pens_ult1  ind_recibo_ult1  \n",
       "0                 0              0.0               0.0                0  \n",
       "1                 0              0.0               0.0                0  \n",
       "2                 0              0.0               0.0                0  \n",
       "3                 0              0.0               0.0                0  \n",
       "4                 0              0.0               0.0                0  \n",
       "\n",
       "[5 rows x 45 columns]"
      ]
     },
     "execution_count": 20,
     "metadata": {},
     "output_type": "execute_result"
    }
   ],
   "source": [
    "df.head()"
   ]
  },
  {
   "cell_type": "code",
   "execution_count": 21,
   "id": "6c8d5986",
   "metadata": {},
   "outputs": [
    {
     "data": {
      "text/html": [
       "<div>\n",
       "<style scoped>\n",
       "    .dataframe tbody tr th:only-of-type {\n",
       "        vertical-align: middle;\n",
       "    }\n",
       "\n",
       "    .dataframe tbody tr th {\n",
       "        vertical-align: top;\n",
       "    }\n",
       "\n",
       "    .dataframe thead th {\n",
       "        text-align: right;\n",
       "    }\n",
       "</style>\n",
       "<table border=\"1\" class=\"dataframe\">\n",
       "  <thead>\n",
       "    <tr style=\"text-align: right;\">\n",
       "      <th></th>\n",
       "      <th>fecha_dato</th>\n",
       "      <th>ncodpers</th>\n",
       "      <th>ind_empleado</th>\n",
       "      <th>pais_residencia</th>\n",
       "      <th>sexo</th>\n",
       "      <th>age</th>\n",
       "      <th>fecha_alta</th>\n",
       "      <th>ind_nuevo</th>\n",
       "      <th>antiguedad</th>\n",
       "      <th>indrel</th>\n",
       "      <th>...</th>\n",
       "      <th>ind_hip_fin_ult1</th>\n",
       "      <th>ind_plan_fin_ult1</th>\n",
       "      <th>ind_pres_fin_ult1</th>\n",
       "      <th>ind_reca_fin_ult1</th>\n",
       "      <th>ind_tjcr_fin_ult1</th>\n",
       "      <th>ind_valo_fin_ult1</th>\n",
       "      <th>ind_viv_fin_ult1</th>\n",
       "      <th>ind_nomina_ult1</th>\n",
       "      <th>ind_nom_pens_ult1</th>\n",
       "      <th>ind_recibo_ult1</th>\n",
       "    </tr>\n",
       "  </thead>\n",
       "  <tbody>\n",
       "    <tr>\n",
       "      <th>0</th>\n",
       "      <td>2015-01-28</td>\n",
       "      <td>1375586</td>\n",
       "      <td>N</td>\n",
       "      <td>ES</td>\n",
       "      <td>H</td>\n",
       "      <td>35</td>\n",
       "      <td>2015-01-12</td>\n",
       "      <td>0.0</td>\n",
       "      <td>6</td>\n",
       "      <td>1.0</td>\n",
       "      <td>...</td>\n",
       "      <td>0</td>\n",
       "      <td>0</td>\n",
       "      <td>0</td>\n",
       "      <td>0</td>\n",
       "      <td>0</td>\n",
       "      <td>0</td>\n",
       "      <td>0</td>\n",
       "      <td>0.0</td>\n",
       "      <td>0.0</td>\n",
       "      <td>0</td>\n",
       "    </tr>\n",
       "    <tr>\n",
       "      <th>1</th>\n",
       "      <td>2015-01-28</td>\n",
       "      <td>1050611</td>\n",
       "      <td>N</td>\n",
       "      <td>ES</td>\n",
       "      <td>V</td>\n",
       "      <td>23</td>\n",
       "      <td>2012-08-10</td>\n",
       "      <td>0.0</td>\n",
       "      <td>35</td>\n",
       "      <td>1.0</td>\n",
       "      <td>...</td>\n",
       "      <td>0</td>\n",
       "      <td>0</td>\n",
       "      <td>0</td>\n",
       "      <td>0</td>\n",
       "      <td>0</td>\n",
       "      <td>0</td>\n",
       "      <td>0</td>\n",
       "      <td>0.0</td>\n",
       "      <td>0.0</td>\n",
       "      <td>0</td>\n",
       "    </tr>\n",
       "    <tr>\n",
       "      <th>2</th>\n",
       "      <td>2015-01-28</td>\n",
       "      <td>1050612</td>\n",
       "      <td>N</td>\n",
       "      <td>ES</td>\n",
       "      <td>V</td>\n",
       "      <td>23</td>\n",
       "      <td>2012-08-10</td>\n",
       "      <td>0.0</td>\n",
       "      <td>35</td>\n",
       "      <td>1.0</td>\n",
       "      <td>...</td>\n",
       "      <td>0</td>\n",
       "      <td>0</td>\n",
       "      <td>0</td>\n",
       "      <td>0</td>\n",
       "      <td>0</td>\n",
       "      <td>0</td>\n",
       "      <td>0</td>\n",
       "      <td>0.0</td>\n",
       "      <td>0.0</td>\n",
       "      <td>0</td>\n",
       "    </tr>\n",
       "    <tr>\n",
       "      <th>3</th>\n",
       "      <td>2015-01-28</td>\n",
       "      <td>1050613</td>\n",
       "      <td>N</td>\n",
       "      <td>ES</td>\n",
       "      <td>H</td>\n",
       "      <td>22</td>\n",
       "      <td>2012-08-10</td>\n",
       "      <td>0.0</td>\n",
       "      <td>35</td>\n",
       "      <td>1.0</td>\n",
       "      <td>...</td>\n",
       "      <td>0</td>\n",
       "      <td>0</td>\n",
       "      <td>0</td>\n",
       "      <td>0</td>\n",
       "      <td>0</td>\n",
       "      <td>0</td>\n",
       "      <td>0</td>\n",
       "      <td>0.0</td>\n",
       "      <td>0.0</td>\n",
       "      <td>0</td>\n",
       "    </tr>\n",
       "    <tr>\n",
       "      <th>4</th>\n",
       "      <td>2015-01-28</td>\n",
       "      <td>1050614</td>\n",
       "      <td>N</td>\n",
       "      <td>ES</td>\n",
       "      <td>V</td>\n",
       "      <td>23</td>\n",
       "      <td>2012-08-10</td>\n",
       "      <td>0.0</td>\n",
       "      <td>35</td>\n",
       "      <td>1.0</td>\n",
       "      <td>...</td>\n",
       "      <td>0</td>\n",
       "      <td>0</td>\n",
       "      <td>0</td>\n",
       "      <td>0</td>\n",
       "      <td>0</td>\n",
       "      <td>0</td>\n",
       "      <td>0</td>\n",
       "      <td>0.0</td>\n",
       "      <td>0.0</td>\n",
       "      <td>0</td>\n",
       "    </tr>\n",
       "  </tbody>\n",
       "</table>\n",
       "<p>5 rows × 45 columns</p>\n",
       "</div>"
      ],
      "text/plain": [
       "  fecha_dato  ncodpers ind_empleado pais_residencia sexo  age fecha_alta  \\\n",
       "0 2015-01-28   1375586            N              ES    H   35 2015-01-12   \n",
       "1 2015-01-28   1050611            N              ES    V   23 2012-08-10   \n",
       "2 2015-01-28   1050612            N              ES    V   23 2012-08-10   \n",
       "3 2015-01-28   1050613            N              ES    H   22 2012-08-10   \n",
       "4 2015-01-28   1050614            N              ES    V   23 2012-08-10   \n",
       "\n",
       "   ind_nuevo  antiguedad  indrel  ...  ind_hip_fin_ult1 ind_plan_fin_ult1  \\\n",
       "0        0.0           6     1.0  ...                 0                 0   \n",
       "1        0.0          35     1.0  ...                 0                 0   \n",
       "2        0.0          35     1.0  ...                 0                 0   \n",
       "3        0.0          35     1.0  ...                 0                 0   \n",
       "4        0.0          35     1.0  ...                 0                 0   \n",
       "\n",
       "  ind_pres_fin_ult1 ind_reca_fin_ult1 ind_tjcr_fin_ult1 ind_valo_fin_ult1  \\\n",
       "0                 0                 0                 0                 0   \n",
       "1                 0                 0                 0                 0   \n",
       "2                 0                 0                 0                 0   \n",
       "3                 0                 0                 0                 0   \n",
       "4                 0                 0                 0                 0   \n",
       "\n",
       "   ind_viv_fin_ult1  ind_nomina_ult1 ind_nom_pens_ult1  ind_recibo_ult1  \n",
       "0                 0              0.0               0.0                0  \n",
       "1                 0              0.0               0.0                0  \n",
       "2                 0              0.0               0.0                0  \n",
       "3                 0              0.0               0.0                0  \n",
       "4                 0              0.0               0.0                0  \n",
       "\n",
       "[5 rows x 45 columns]"
      ]
     },
     "execution_count": 21,
     "metadata": {},
     "output_type": "execute_result"
    }
   ],
   "source": [
    "df.head()"
   ]
  },
  {
   "cell_type": "code",
   "execution_count": 23,
   "id": "a7749d52",
   "metadata": {},
   "outputs": [
    {
     "data": {
      "text/plain": [
       "Index(['fecha_dato', 'ncodpers', 'ind_empleado', 'pais_residencia', 'sexo',\n",
       "       'age', 'fecha_alta', 'ind_nuevo', 'antiguedad', 'indrel', 'indrel_1mes',\n",
       "       'tiprel_1mes', 'indresi', 'indext', 'canal_entrada', 'indfall',\n",
       "       'tipodom', 'cod_prov', 'nomprov', 'ind_actividad_cliente', 'renta',\n",
       "       'ind_ahor_fin_ult1', 'ind_aval_fin_ult1', 'ind_cco_fin_ult1',\n",
       "       'ind_cder_fin_ult1', 'ind_cno_fin_ult1', 'ind_ctju_fin_ult1',\n",
       "       'ind_ctma_fin_ult1', 'ind_ctop_fin_ult1', 'ind_ctpp_fin_ult1',\n",
       "       'ind_deco_fin_ult1', 'ind_deme_fin_ult1', 'ind_dela_fin_ult1',\n",
       "       'ind_ecue_fin_ult1', 'ind_fond_fin_ult1', 'ind_hip_fin_ult1',\n",
       "       'ind_plan_fin_ult1', 'ind_pres_fin_ult1', 'ind_reca_fin_ult1',\n",
       "       'ind_tjcr_fin_ult1', 'ind_valo_fin_ult1', 'ind_viv_fin_ult1',\n",
       "       'ind_nomina_ult1', 'ind_nom_pens_ult1', 'ind_recibo_ult1'],\n",
       "      dtype='object')"
      ]
     },
     "execution_count": 23,
     "metadata": {},
     "output_type": "execute_result"
    }
   ],
   "source": [
    "df.columns"
   ]
  },
  {
   "cell_type": "code",
   "execution_count": 24,
   "id": "1751a781",
   "metadata": {},
   "outputs": [
    {
     "data": {
      "text/plain": [
       "array(['2015-01-28T00:00:00.000000000', '2015-02-28T00:00:00.000000000'],\n",
       "      dtype='datetime64[ns]')"
      ]
     },
     "execution_count": 24,
     "metadata": {},
     "output_type": "execute_result"
    }
   ],
   "source": [
    "df['fecha_dato'].unique()"
   ]
  },
  {
   "cell_type": "code",
   "execution_count": 26,
   "id": "29dae012",
   "metadata": {},
   "outputs": [
    {
     "data": {
      "text/plain": [
       "array(['N', 'A', 'F', 'B', 'S'], dtype=object)"
      ]
     },
     "execution_count": 26,
     "metadata": {},
     "output_type": "execute_result"
    }
   ],
   "source": [
    "df['ind_empleado'].unique()"
   ]
  },
  {
   "cell_type": "code",
   "execution_count": 27,
   "id": "bed2bd8b",
   "metadata": {},
   "outputs": [
    {
     "data": {
      "text/plain": [
       "array(['H', 'V'], dtype=object)"
      ]
     },
     "execution_count": 27,
     "metadata": {},
     "output_type": "execute_result"
    }
   ],
   "source": [
    "df['sexo'].unique()"
   ]
  },
  {
   "cell_type": "code",
   "execution_count": 29,
   "id": "8c76ff64",
   "metadata": {},
   "outputs": [
    {
     "data": {
      "text/plain": [
       "array(['ES', 'IT', 'DE', 'BO', 'PY'], dtype=object)"
      ]
     },
     "execution_count": 29,
     "metadata": {},
     "output_type": "execute_result"
    }
   ],
   "source": [
    "df['pais_residencia'].unique()"
   ]
  },
  {
   "cell_type": "code",
   "execution_count": 33,
   "id": "160159ac",
   "metadata": {},
   "outputs": [
    {
     "data": {
      "text/plain": [
       "array(['2015-01-12T00:00:00.000000000', '2012-08-10T00:00:00.000000000',\n",
       "       '2012-08-16T00:00:00.000000000', ...,\n",
       "       '2015-01-31T00:00:00.000000000', '2015-02-17T00:00:00.000000000',\n",
       "       '2015-02-01T00:00:00.000000000'], dtype='datetime64[ns]')"
      ]
     },
     "execution_count": 33,
     "metadata": {},
     "output_type": "execute_result"
    }
   ],
   "source": [
    "df['fecha_alta'].unique()"
   ]
  },
  {
   "cell_type": "code",
   "execution_count": null,
   "id": "3bfc3131",
   "metadata": {},
   "outputs": [],
   "source": [
    "columns_to_use = ['ind_empleado', 'pais_residencia', 'sexo', 'age', 'ind_nuevo', 'antiguedad', 'indrel_1mes', 'tiprel_1mes',\n",
    "                 'indresi', 'indext', 'canal_entrada','nomprov', 'renta']"
   ]
  },
  {
   "cell_type": "code",
   "execution_count": 38,
   "id": "6f8b7411",
   "metadata": {},
   "outputs": [
    {
     "data": {
      "text/html": [
       "<div>\n",
       "<style scoped>\n",
       "    .dataframe tbody tr th:only-of-type {\n",
       "        vertical-align: middle;\n",
       "    }\n",
       "\n",
       "    .dataframe tbody tr th {\n",
       "        vertical-align: top;\n",
       "    }\n",
       "\n",
       "    .dataframe thead th {\n",
       "        text-align: right;\n",
       "    }\n",
       "</style>\n",
       "<table border=\"1\" class=\"dataframe\">\n",
       "  <thead>\n",
       "    <tr style=\"text-align: right;\">\n",
       "      <th></th>\n",
       "      <th>fecha_dato</th>\n",
       "      <th>ncodpers</th>\n",
       "      <th>ind_empleado</th>\n",
       "      <th>pais_residencia</th>\n",
       "      <th>sexo</th>\n",
       "      <th>age</th>\n",
       "      <th>fecha_alta</th>\n",
       "      <th>ind_nuevo</th>\n",
       "      <th>antiguedad</th>\n",
       "      <th>indrel</th>\n",
       "      <th>...</th>\n",
       "      <th>ind_hip_fin_ult1</th>\n",
       "      <th>ind_plan_fin_ult1</th>\n",
       "      <th>ind_pres_fin_ult1</th>\n",
       "      <th>ind_reca_fin_ult1</th>\n",
       "      <th>ind_tjcr_fin_ult1</th>\n",
       "      <th>ind_valo_fin_ult1</th>\n",
       "      <th>ind_viv_fin_ult1</th>\n",
       "      <th>ind_nomina_ult1</th>\n",
       "      <th>ind_nom_pens_ult1</th>\n",
       "      <th>ind_recibo_ult1</th>\n",
       "    </tr>\n",
       "  </thead>\n",
       "  <tbody>\n",
       "    <tr>\n",
       "      <th>452687</th>\n",
       "      <td>2015-01-28</td>\n",
       "      <td>138388</td>\n",
       "      <td>N</td>\n",
       "      <td>ES</td>\n",
       "      <td>V</td>\n",
       "      <td>51</td>\n",
       "      <td>1999-07-16</td>\n",
       "      <td>0.0</td>\n",
       "      <td>-999999</td>\n",
       "      <td>1.0</td>\n",
       "      <td>...</td>\n",
       "      <td>1</td>\n",
       "      <td>1</td>\n",
       "      <td>0</td>\n",
       "      <td>1</td>\n",
       "      <td>1</td>\n",
       "      <td>1</td>\n",
       "      <td>0</td>\n",
       "      <td>1.0</td>\n",
       "      <td>1.0</td>\n",
       "      <td>1</td>\n",
       "    </tr>\n",
       "    <tr>\n",
       "      <th>461981</th>\n",
       "      <td>2015-01-28</td>\n",
       "      <td>162278</td>\n",
       "      <td>N</td>\n",
       "      <td>ES</td>\n",
       "      <td>V</td>\n",
       "      <td>66</td>\n",
       "      <td>2005-06-08</td>\n",
       "      <td>0.0</td>\n",
       "      <td>-999999</td>\n",
       "      <td>1.0</td>\n",
       "      <td>...</td>\n",
       "      <td>0</td>\n",
       "      <td>0</td>\n",
       "      <td>0</td>\n",
       "      <td>0</td>\n",
       "      <td>0</td>\n",
       "      <td>0</td>\n",
       "      <td>0</td>\n",
       "      <td>0.0</td>\n",
       "      <td>0.0</td>\n",
       "      <td>0</td>\n",
       "    </tr>\n",
       "    <tr>\n",
       "      <th>788786</th>\n",
       "      <td>2015-02-28</td>\n",
       "      <td>162278</td>\n",
       "      <td>N</td>\n",
       "      <td>ES</td>\n",
       "      <td>V</td>\n",
       "      <td>66</td>\n",
       "      <td>2005-06-08</td>\n",
       "      <td>0.0</td>\n",
       "      <td>-999999</td>\n",
       "      <td>1.0</td>\n",
       "      <td>...</td>\n",
       "      <td>0</td>\n",
       "      <td>0</td>\n",
       "      <td>0</td>\n",
       "      <td>0</td>\n",
       "      <td>0</td>\n",
       "      <td>0</td>\n",
       "      <td>0</td>\n",
       "      <td>0.0</td>\n",
       "      <td>0.0</td>\n",
       "      <td>0</td>\n",
       "    </tr>\n",
       "    <tr>\n",
       "      <th>800687</th>\n",
       "      <td>2015-02-28</td>\n",
       "      <td>138388</td>\n",
       "      <td>N</td>\n",
       "      <td>ES</td>\n",
       "      <td>V</td>\n",
       "      <td>51</td>\n",
       "      <td>1999-07-16</td>\n",
       "      <td>0.0</td>\n",
       "      <td>-999999</td>\n",
       "      <td>1.0</td>\n",
       "      <td>...</td>\n",
       "      <td>1</td>\n",
       "      <td>1</td>\n",
       "      <td>0</td>\n",
       "      <td>1</td>\n",
       "      <td>1</td>\n",
       "      <td>1</td>\n",
       "      <td>0</td>\n",
       "      <td>1.0</td>\n",
       "      <td>1.0</td>\n",
       "      <td>1</td>\n",
       "    </tr>\n",
       "  </tbody>\n",
       "</table>\n",
       "<p>4 rows × 45 columns</p>\n",
       "</div>"
      ],
      "text/plain": [
       "       fecha_dato  ncodpers ind_empleado pais_residencia sexo  age fecha_alta  \\\n",
       "452687 2015-01-28    138388            N              ES    V   51 1999-07-16   \n",
       "461981 2015-01-28    162278            N              ES    V   66 2005-06-08   \n",
       "788786 2015-02-28    162278            N              ES    V   66 2005-06-08   \n",
       "800687 2015-02-28    138388            N              ES    V   51 1999-07-16   \n",
       "\n",
       "        ind_nuevo  antiguedad  indrel  ...  ind_hip_fin_ult1  \\\n",
       "452687        0.0     -999999     1.0  ...                 1   \n",
       "461981        0.0     -999999     1.0  ...                 0   \n",
       "788786        0.0     -999999     1.0  ...                 0   \n",
       "800687        0.0     -999999     1.0  ...                 1   \n",
       "\n",
       "       ind_plan_fin_ult1 ind_pres_fin_ult1 ind_reca_fin_ult1  \\\n",
       "452687                 1                 0                 1   \n",
       "461981                 0                 0                 0   \n",
       "788786                 0                 0                 0   \n",
       "800687                 1                 0                 1   \n",
       "\n",
       "       ind_tjcr_fin_ult1 ind_valo_fin_ult1  ind_viv_fin_ult1  ind_nomina_ult1  \\\n",
       "452687                 1                 1                 0              1.0   \n",
       "461981                 0                 0                 0              0.0   \n",
       "788786                 0                 0                 0              0.0   \n",
       "800687                 1                 1                 0              1.0   \n",
       "\n",
       "       ind_nom_pens_ult1  ind_recibo_ult1  \n",
       "452687               1.0                1  \n",
       "461981               0.0                0  \n",
       "788786               0.0                0  \n",
       "800687               1.0                1  \n",
       "\n",
       "[4 rows x 45 columns]"
      ]
     },
     "execution_count": 38,
     "metadata": {},
     "output_type": "execute_result"
    }
   ],
   "source": [
    "df[df['antiguedad']<0] # remove these rows"
   ]
  },
  {
   "cell_type": "code",
   "execution_count": null,
   "id": "d29b4314",
   "metadata": {},
   "outputs": [],
   "source": []
  },
  {
   "cell_type": "code",
   "execution_count": null,
   "id": "c82cd496",
   "metadata": {},
   "outputs": [],
   "source": []
  },
  {
   "cell_type": "code",
   "execution_count": null,
   "id": "667969a9",
   "metadata": {},
   "outputs": [],
   "source": []
  },
  {
   "cell_type": "code",
   "execution_count": null,
   "id": "41c10648",
   "metadata": {},
   "outputs": [],
   "source": []
  },
  {
   "cell_type": "code",
   "execution_count": null,
   "id": "a8e7aa0d",
   "metadata": {},
   "outputs": [],
   "source": []
  }
 ],
 "metadata": {
  "kernelspec": {
   "display_name": "Python 3",
   "language": "python",
   "name": "python3"
  },
  "language_info": {
   "codemirror_mode": {
    "name": "ipython",
    "version": 3
   },
   "file_extension": ".py",
   "mimetype": "text/x-python",
   "name": "python",
   "nbconvert_exporter": "python",
   "pygments_lexer": "ipython3",
   "version": "3.8.8"
  }
 },
 "nbformat": 4,
 "nbformat_minor": 5
}
